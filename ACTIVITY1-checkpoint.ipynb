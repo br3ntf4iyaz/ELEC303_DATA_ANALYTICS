{
 "cells": [
  {
   "cell_type": "code",
   "execution_count": 17,
   "id": "034d6db1-d1ac-48e1-a2b3-2243723e3345",
   "metadata": {},
   "outputs": [],
   "source": [
    "import pandas as pd\n",
    "import numpy as py\n"
   ]
  },
  {
   "cell_type": "code",
   "execution_count": 18,
   "id": "2fe23f8e-d4cb-47b8-ae97-75a31eb9a2a7",
   "metadata": {},
   "outputs": [],
   "source": [
    "file_path = r\"C:\\Users\\Matthew\\penguins.csv\"\n",
    "penguins_df = pd.read_csv(file_path)"
   ]
  },
  {
   "cell_type": "code",
   "execution_count": 19,
   "id": "e673978c-0d5b-44d2-b5ee-bc4a5f32a68a",
   "metadata": {},
   "outputs": [
    {
     "data": {
      "text/html": [
       "<div>\n",
       "<style scoped>\n",
       "    .dataframe tbody tr th:only-of-type {\n",
       "        vertical-align: middle;\n",
       "    }\n",
       "\n",
       "    .dataframe tbody tr th {\n",
       "        vertical-align: top;\n",
       "    }\n",
       "\n",
       "    .dataframe thead th {\n",
       "        text-align: right;\n",
       "    }\n",
       "</style>\n",
       "<table border=\"1\" class=\"dataframe\">\n",
       "  <thead>\n",
       "    <tr style=\"text-align: right;\">\n",
       "      <th></th>\n",
       "      <th>species</th>\n",
       "      <th>island</th>\n",
       "      <th>bill_length_mm</th>\n",
       "      <th>bill_depth_mm</th>\n",
       "      <th>flipper_length_mm</th>\n",
       "      <th>body_mass_g</th>\n",
       "      <th>sex</th>\n",
       "      <th>year</th>\n",
       "    </tr>\n",
       "  </thead>\n",
       "  <tbody>\n",
       "    <tr>\n",
       "      <th>0</th>\n",
       "      <td>Adelie</td>\n",
       "      <td>Torgersen</td>\n",
       "      <td>39.1</td>\n",
       "      <td>18.7</td>\n",
       "      <td>181.0</td>\n",
       "      <td>3750.0</td>\n",
       "      <td>male</td>\n",
       "      <td>2007</td>\n",
       "    </tr>\n",
       "    <tr>\n",
       "      <th>1</th>\n",
       "      <td>Adelie</td>\n",
       "      <td>Torgersen</td>\n",
       "      <td>39.5</td>\n",
       "      <td>17.4</td>\n",
       "      <td>186.0</td>\n",
       "      <td>3800.0</td>\n",
       "      <td>female</td>\n",
       "      <td>2007</td>\n",
       "    </tr>\n",
       "    <tr>\n",
       "      <th>2</th>\n",
       "      <td>Adelie</td>\n",
       "      <td>Torgersen</td>\n",
       "      <td>40.3</td>\n",
       "      <td>18.0</td>\n",
       "      <td>195.0</td>\n",
       "      <td>3250.0</td>\n",
       "      <td>female</td>\n",
       "      <td>2007</td>\n",
       "    </tr>\n",
       "    <tr>\n",
       "      <th>3</th>\n",
       "      <td>Adelie</td>\n",
       "      <td>Torgersen</td>\n",
       "      <td>NaN</td>\n",
       "      <td>NaN</td>\n",
       "      <td>NaN</td>\n",
       "      <td>NaN</td>\n",
       "      <td>NaN</td>\n",
       "      <td>2007</td>\n",
       "    </tr>\n",
       "    <tr>\n",
       "      <th>4</th>\n",
       "      <td>Adelie</td>\n",
       "      <td>Torgersen</td>\n",
       "      <td>36.7</td>\n",
       "      <td>19.3</td>\n",
       "      <td>193.0</td>\n",
       "      <td>3450.0</td>\n",
       "      <td>female</td>\n",
       "      <td>2007</td>\n",
       "    </tr>\n",
       "    <tr>\n",
       "      <th>...</th>\n",
       "      <td>...</td>\n",
       "      <td>...</td>\n",
       "      <td>...</td>\n",
       "      <td>...</td>\n",
       "      <td>...</td>\n",
       "      <td>...</td>\n",
       "      <td>...</td>\n",
       "      <td>...</td>\n",
       "    </tr>\n",
       "    <tr>\n",
       "      <th>339</th>\n",
       "      <td>Chinstrap</td>\n",
       "      <td>Dream</td>\n",
       "      <td>55.8</td>\n",
       "      <td>19.8</td>\n",
       "      <td>207.0</td>\n",
       "      <td>4000.0</td>\n",
       "      <td>male</td>\n",
       "      <td>2009</td>\n",
       "    </tr>\n",
       "    <tr>\n",
       "      <th>340</th>\n",
       "      <td>Chinstrap</td>\n",
       "      <td>Dream</td>\n",
       "      <td>43.5</td>\n",
       "      <td>18.1</td>\n",
       "      <td>202.0</td>\n",
       "      <td>3400.0</td>\n",
       "      <td>female</td>\n",
       "      <td>2009</td>\n",
       "    </tr>\n",
       "    <tr>\n",
       "      <th>341</th>\n",
       "      <td>Chinstrap</td>\n",
       "      <td>Dream</td>\n",
       "      <td>49.6</td>\n",
       "      <td>18.2</td>\n",
       "      <td>193.0</td>\n",
       "      <td>3775.0</td>\n",
       "      <td>male</td>\n",
       "      <td>2009</td>\n",
       "    </tr>\n",
       "    <tr>\n",
       "      <th>342</th>\n",
       "      <td>Chinstrap</td>\n",
       "      <td>Dream</td>\n",
       "      <td>50.8</td>\n",
       "      <td>19.0</td>\n",
       "      <td>210.0</td>\n",
       "      <td>4100.0</td>\n",
       "      <td>male</td>\n",
       "      <td>2009</td>\n",
       "    </tr>\n",
       "    <tr>\n",
       "      <th>343</th>\n",
       "      <td>Chinstrap</td>\n",
       "      <td>Dream</td>\n",
       "      <td>50.2</td>\n",
       "      <td>18.7</td>\n",
       "      <td>198.0</td>\n",
       "      <td>3775.0</td>\n",
       "      <td>female</td>\n",
       "      <td>2009</td>\n",
       "    </tr>\n",
       "  </tbody>\n",
       "</table>\n",
       "<p>344 rows × 8 columns</p>\n",
       "</div>"
      ],
      "text/plain": [
       "       species     island  bill_length_mm  bill_depth_mm  flipper_length_mm  \\\n",
       "0       Adelie  Torgersen            39.1           18.7              181.0   \n",
       "1       Adelie  Torgersen            39.5           17.4              186.0   \n",
       "2       Adelie  Torgersen            40.3           18.0              195.0   \n",
       "3       Adelie  Torgersen             NaN            NaN                NaN   \n",
       "4       Adelie  Torgersen            36.7           19.3              193.0   \n",
       "..         ...        ...             ...            ...                ...   \n",
       "339  Chinstrap      Dream            55.8           19.8              207.0   \n",
       "340  Chinstrap      Dream            43.5           18.1              202.0   \n",
       "341  Chinstrap      Dream            49.6           18.2              193.0   \n",
       "342  Chinstrap      Dream            50.8           19.0              210.0   \n",
       "343  Chinstrap      Dream            50.2           18.7              198.0   \n",
       "\n",
       "     body_mass_g     sex  year  \n",
       "0         3750.0    male  2007  \n",
       "1         3800.0  female  2007  \n",
       "2         3250.0  female  2007  \n",
       "3            NaN     NaN  2007  \n",
       "4         3450.0  female  2007  \n",
       "..           ...     ...   ...  \n",
       "339       4000.0    male  2009  \n",
       "340       3400.0  female  2009  \n",
       "341       3775.0    male  2009  \n",
       "342       4100.0    male  2009  \n",
       "343       3775.0  female  2009  \n",
       "\n",
       "[344 rows x 8 columns]"
      ]
     },
     "execution_count": 19,
     "metadata": {},
     "output_type": "execute_result"
    }
   ],
   "source": [
    "penguins_df\n"
   ]
  },
  {
   "cell_type": "code",
   "execution_count": 20,
   "id": "df15b115-47ea-446d-a89e-1a3dbbf6a221",
   "metadata": {},
   "outputs": [
    {
     "data": {
      "text/plain": [
       "(344, 8)"
      ]
     },
     "execution_count": 20,
     "metadata": {},
     "output_type": "execute_result"
    }
   ],
   "source": [
    "penguins_df.shape\n"
   ]
  },
  {
   "cell_type": "code",
   "execution_count": 21,
   "id": "33f7defd-d544-4e29-b780-36e79b1483e4",
   "metadata": {},
   "outputs": [
    {
     "data": {
      "text/plain": [
       "Index(['species', 'island', 'bill_length_mm', 'bill_depth_mm',\n",
       "       'flipper_length_mm', 'body_mass_g', 'sex', 'year'],\n",
       "      dtype='object')"
      ]
     },
     "execution_count": 21,
     "metadata": {},
     "output_type": "execute_result"
    }
   ],
   "source": [
    "penguins_df.columns\n"
   ]
  },
  {
   "cell_type": "code",
   "execution_count": 6,
   "id": "8c890a54-9f1e-4937-a7e0-cdb378f1c02c",
   "metadata": {},
   "outputs": [
    {
     "data": {
      "text/plain": [
       "species               0\n",
       "island                0\n",
       "bill_length_mm        2\n",
       "bill_depth_mm         2\n",
       "flipper_length_mm     2\n",
       "body_mass_g           2\n",
       "sex                  11\n",
       "year                  0\n",
       "dtype: int64"
      ]
     },
     "execution_count": 6,
     "metadata": {},
     "output_type": "execute_result"
    }
   ],
   "source": [
    "penguins_df.isnull().sum()\n"
   ]
  },
  {
   "cell_type": "code",
   "execution_count": 7,
   "id": "06fa0488-dc44-4d02-87b2-a1b4debd99d6",
   "metadata": {},
   "outputs": [
    {
     "data": {
      "text/plain": [
       "species              0\n",
       "island               0\n",
       "bill_length_mm       0\n",
       "bill_depth_mm        0\n",
       "flipper_length_mm    0\n",
       "body_mass_g          0\n",
       "sex                  0\n",
       "year                 0\n",
       "dtype: int64"
      ]
     },
     "execution_count": 7,
     "metadata": {},
     "output_type": "execute_result"
    }
   ],
   "source": [
    "null_counts = penguins_df.isnull().sum()\n",
    "penguins_df['bill_length_mm'] = penguins_df['bill_length_mm'].fillna(penguins_df['bill_length_mm'].mean())\n",
    "penguins_df['bill_depth_mm'] = penguins_df['bill_depth_mm'].fillna(penguins_df['bill_depth_mm'].median())\n",
    "penguins_df['flipper_length_mm'] = penguins_df['flipper_length_mm'].fillna(penguins_df['flipper_length_mm'].mean())\n",
    "penguins_df['body_mass_g'] = penguins_df['body_mass_g'].fillna(penguins_df['body_mass_g'].mean())\n",
    "\n",
    "penguins_df['sex'] = penguins_df['sex'].fillna(penguins_df['sex'].mode()[0])\n",
    "penguins_df['species'] = penguins_df['species'].fillna(penguins_df['species'].mode()[0])\n",
    "penguins_df['island'] = penguins_df['island'].fillna(penguins_df['island'].mode()[0])\n",
    "\n",
    "penguins_df.isnull().sum()"
   ]
  },
  {
   "cell_type": "code",
   "execution_count": 8,
   "id": "7d71ec72-e976-40f1-86ac-f10c573597f2",
   "metadata": {},
   "outputs": [
    {
     "data": {
      "text/plain": [
       "species              category\n",
       "island               category\n",
       "bill_length_mm        float64\n",
       "bill_depth_mm         float64\n",
       "flipper_length_mm     float64\n",
       "body_mass_g           float64\n",
       "sex                  category\n",
       "year                    int64\n",
       "dtype: object"
      ]
     },
     "execution_count": 8,
     "metadata": {},
     "output_type": "execute_result"
    }
   ],
   "source": [
    "penguins_df['species'] = penguins_df['species'].astype('category')\n",
    "penguins_df['island'] = penguins_df['island'].astype('category')\n",
    "penguins_df['sex'] = penguins_df['sex'].astype('category')\n",
    "\n",
    "penguins_df.dtypes"
   ]
  },
  {
   "cell_type": "markdown",
   "id": "1706fa3b-0e94-4b03-b25f-76631eb2e501",
   "metadata": {},
   "source": [
    "### Question 1\n",
    "#### Which penguin species has the heaviest average body mass?"
   ]
  },
  {
   "cell_type": "code",
   "execution_count": 9,
   "id": "4daa8c22-48e2-4593-bc50-80dcad52e009",
   "metadata": {},
   "outputs": [
    {
     "data": {
      "text/plain": [
       "species\n",
       "Gentoo       5068.965761\n",
       "Chinstrap    3733.088235\n",
       "Adelie       3703.958910\n",
       "Name: body_mass_g, dtype: float64"
      ]
     },
     "execution_count": 9,
     "metadata": {},
     "output_type": "execute_result"
    }
   ],
   "source": [
    "species_mass = penguins_df.groupby('species', observed=True)['body_mass_g'].mean().sort_values(ascending=False)\n",
    "species_mass"
   ]
  },
  {
   "cell_type": "markdown",
   "id": "8351c397-3cb8-4c64-aba4-2103070fb7ab",
   "metadata": {},
   "source": [
    "### Insight 1\n",
    "#### The results show that Gentoo species has the highest average body mass. The heaviest species likely has evolutionary adaptations for colder environments, as larger body size helps with heat retention in Antarctic conditions."
   ]
  },
  {
   "cell_type": "markdown",
   "id": "80a9a11d-1955-4557-8068-dc2e032da479",
   "metadata": {},
   "source": [
    "### Question 2\n",
    "#### Which island has the penguins with the highest average body mass?"
   ]
  },
  {
   "cell_type": "code",
   "execution_count": 10,
   "id": "879e636c-937f-49b0-8b4f-bbff9accbd40",
   "metadata": {},
   "outputs": [
    {
     "data": {
      "text/plain": [
       "island\n",
       "Biscoe       4712.956871\n",
       "Torgersen    3715.899123\n",
       "Dream        3712.903226\n",
       "Name: body_mass_g, dtype: float64"
      ]
     },
     "execution_count": 10,
     "metadata": {},
     "output_type": "execute_result"
    }
   ],
   "source": [
    "island_mass = penguins_df.groupby('island', observed=True)['body_mass_g'].mean().sort_values(ascending=False)\n",
    "island_mass"
   ]
  },
  {
   "cell_type": "markdown",
   "id": "4d00e4fe-8f65-461c-a076-c623d13abedb",
   "metadata": {},
   "source": [
    "### Insight 2\n",
    "#### The island with the heaviest penguins might have better food resources or different environmental conditions that support larger body sizes. This could indicate habitat quality differences between the islands in the study.\n"
   ]
  },
  {
   "cell_type": "markdown",
   "id": "7e655eff-8a44-4666-b769-6527d1329c7c",
   "metadata": {},
   "source": [
    "### Question 3\n",
    "#### Which penguin species has the longest average bill length?"
   ]
  },
  {
   "cell_type": "code",
   "execution_count": 11,
   "id": "60fb1194-d1d2-4881-b10b-2c385493a1d3",
   "metadata": {},
   "outputs": [
    {
     "data": {
      "text/plain": [
       "species\n",
       "Chinstrap    48.833824\n",
       "Gentoo       47.475983\n",
       "Adelie       38.825144\n",
       "Name: bill_length_mm, dtype: float64"
      ]
     },
     "execution_count": 11,
     "metadata": {},
     "output_type": "execute_result"
    }
   ],
   "source": [
    "species_bill_length = penguins_df.groupby('species', observed=True)['bill_length_mm'].mean().sort_values(ascending=False)\n",
    "species_bill_length"
   ]
  },
  {
   "cell_type": "markdown",
   "id": "caa3a2b0-fb0b-44ae-acc2-627c350e5a64",
   "metadata": {},
   "source": [
    "### Answer 3\n",
    "#### The Chinstrap that has the longest bills has likely evolved this trait to specialize in catching specific types of prey. Bill length is directly related to feeding strategies and the ecological niche each species occupies."
   ]
  },
  {
   "cell_type": "markdown",
   "id": "2ed0b594-06bb-48bd-acaa-47877f7b5cd1",
   "metadata": {},
   "source": [
    "### Question 4\n",
    "#### What year had the highest average flipper length among all penguins?"
   ]
  },
  {
   "cell_type": "code",
   "execution_count": 12,
   "id": "43602cc8-a9bd-4b28-9416-98df2128a84d",
   "metadata": {},
   "outputs": [
    {
     "data": {
      "text/plain": [
       "year\n",
       "2008    202.798246\n",
       "2009    202.790960\n",
       "2007    196.917411\n",
       "Name: flipper_length_mm, dtype: float64"
      ]
     },
     "execution_count": 12,
     "metadata": {},
     "output_type": "execute_result"
    }
   ],
   "source": [
    "yearly_flipper = penguins_df.groupby('year')['flipper_length_mm'].mean().sort_values(ascending=False)\n",
    "yearly_flipper"
   ]
  },
  {
   "cell_type": "markdown",
   "id": "c28927e7-da5d-48a5-aa1a-d57f95f74215",
   "metadata": {},
   "source": [
    "### Conclusion 4\n",
    "#### The year 2009 with the highest average flipper length might indicate better growth conditions for penguins during that period. Flipper size can be influenced by nutrition during development, so this could reflect food availability or environmental conditions in different years."
   ]
  },
  {
   "cell_type": "markdown",
   "id": "f5f34ee5-100b-420d-970c-6cf218f3afbd",
   "metadata": {},
   "source": [
    "### Question 5\n",
    "#### Which sex has the greater average body mass?"
   ]
  },
  {
   "cell_type": "code",
   "execution_count": 13,
   "id": "ed67eacc-37f7-4c56-a7af-3e9d04725af8",
   "metadata": {},
   "outputs": [
    {
     "data": {
      "text/plain": [
       "sex\n",
       "male      4514.684407\n",
       "female    3862.272727\n",
       "Name: body_mass_g, dtype: float64"
      ]
     },
     "execution_count": 13,
     "metadata": {},
     "output_type": "execute_result"
    }
   ],
   "source": [
    "sex_mass = penguins_df.groupby('sex', observed=True)['body_mass_g'].mean().sort_values(ascending=False)\n",
    "sex_mass"
   ]
  },
  {
   "cell_type": "markdown",
   "id": "af0aeeb3-5e34-4178-9ce6-593900955fbc",
   "metadata": {},
   "source": [
    "### Insight 5\n",
    "#### The comparison reveals male penguins are heavier on average. This sexual dimorphism in body mass is common in many bird species and often relates to mating strategies and parental roles."
   ]
  },
  {
   "cell_type": "markdown",
   "id": "56a4ec30-7d34-4882-91af-42a21d0f090b",
   "metadata": {},
   "source": [
    "### Question 6\n",
    "#### What is the average bill depth for each species?"
   ]
  },
  {
   "cell_type": "code",
   "execution_count": 14,
   "id": "90871748-fe2c-42ee-a436-8c473d0948bb",
   "metadata": {},
   "outputs": [
    {
     "data": {
      "text/plain": [
       "species\n",
       "Chinstrap    18.420588\n",
       "Adelie       18.339474\n",
       "Gentoo       15.000806\n",
       "Name: bill_depth_mm, dtype: float64"
      ]
     },
     "execution_count": 14,
     "metadata": {},
     "output_type": "execute_result"
    }
   ],
   "source": [
    "species_bill_depth = penguins_df.groupby('species', observed=True)['bill_depth_mm'].mean().sort_values(ascending=False)\n",
    "species_bill_depth"
   ]
  },
  {
   "cell_type": "markdown",
   "id": "1b605fb8-403e-42e6-8216-eb56039a2315",
   "metadata": {},
   "source": [
    "### Insight 6\n",
    "#### The differences in bill depth between species reflect their different feeding adaptations. Species with deeper bills may be adapted to different prey types or feeding techniques compared to those with shallower bills.\n"
   ]
  },
  {
   "cell_type": "markdown",
   "id": "9b5f4f3a-00b4-47f7-8896-b23ae1ea1da5",
   "metadata": {},
   "source": [
    "### Question 7\n",
    "#### Which island has the most penguin observations in the dataset?"
   ]
  },
  {
   "cell_type": "code",
   "execution_count": 15,
   "id": "c446fa41-389d-4d74-a1e8-7967af4f7a67",
   "metadata": {},
   "outputs": [
    {
     "data": {
      "text/plain": [
       "island\n",
       "Biscoe       168\n",
       "Dream        124\n",
       "Torgersen     52\n",
       "Name: count, dtype: int64"
      ]
     },
     "execution_count": 15,
     "metadata": {},
     "output_type": "execute_result"
    }
   ],
   "source": [
    "island_counts = penguins_df['island'].value_counts()\n",
    "island_counts"
   ]
  },
  {
   "cell_type": "markdown",
   "id": "84ef3d50-7253-4f69-9b27-7595f194bbe7",
   "metadata": {},
   "source": [
    "### Insight 7\n",
    "#### The island Biscoe with the most observations may be more accessible to researchers or have larger penguin colonies. This information helps us understand the distribution of our data and any potential sampling biases across different locations."
   ]
  },
  {
   "cell_type": "markdown",
   "id": "275583b9-d2ff-4672-a8a3-08145540f810",
   "metadata": {},
   "source": [
    "### Question 8\n",
    "#### How does the bill length to bill depth ratio vary across different penguin species?"
   ]
  },
  {
   "cell_type": "code",
   "execution_count": 24,
   "id": "dee5e1c4-f970-4e74-9bad-025b8985012a",
   "metadata": {
    "scrolled": true
   },
   "outputs": [
    {
     "data": {
      "text/plain": [
       "species\n",
       "Gentoo       3.175592\n",
       "Chinstrap    2.653756\n",
       "Adelie       2.119726\n",
       "Name: bill_ratio, dtype: float64"
      ]
     },
     "execution_count": 24,
     "metadata": {},
     "output_type": "execute_result"
    }
   ],
   "source": [
    "\n",
    "penguins_df['bill_ratio'] = penguins_df['bill_length_mm'] / penguins_df['bill_depth_mm']\n",
    "species_bill_ratio = penguins_df.groupby('species', observed=True)['bill_ratio'].mean().sort_values(ascending=False)\n",
    "species_bill_ratio"
   ]
  },
  {
   "cell_type": "markdown",
   "id": "e4d73495-0d83-484e-99d8-449e6f4871b1",
   "metadata": {},
   "source": [
    "#### Insight 8\n",
    "#### The bill length to depth ratio provides insight into feeding adaptations across penguin species. Species with higher ratios likely have more specialized feeding strategies, possibly targeting different prey types. This morphological difference demonstrates how evolutionary pressures have shaped distinct feeding niches among penguin species in the same ecosystem."
   ]
  },
  {
   "cell_type": "markdown",
   "id": "024c3d99-bc86-4f2d-b902-37db8d13ef2e",
   "metadata": {},
   "source": [
    "#### Question 9\n",
    "#### Is there a relationship between year and body mass? Has the average penguin body mass changed over time?"
   ]
  },
  {
   "cell_type": "code",
   "execution_count": 26,
   "id": "dc6f50be-966b-45ad-bc8b-44b8e0fbbcb0",
   "metadata": {},
   "outputs": [
    {
     "data": {
      "text/plain": [
       "year\n",
       "2007    4124.541284\n",
       "2008    4266.666667\n",
       "2009    4210.294118\n",
       "Name: body_mass_g, dtype: float64"
      ]
     },
     "execution_count": 26,
     "metadata": {},
     "output_type": "execute_result"
    }
   ],
   "source": [
    "\n",
    "yearly_mass = penguins_df.groupby('year', observed=True)['body_mass_g'].mean()\n",
    "yearly_mass"
   ]
  },
  {
   "cell_type": "markdown",
   "id": "22acec46-2efd-4a4a-a2bd-9bb3688f8d26",
   "metadata": {},
   "source": [
    "### Insight 9\n",
    "#### Tracking body mass changes over time can reveal potential impacts of climate change or food availability on penguin populations. Any consistent trend could indicate environmental stressors affecting penguin health and survival rates in the Antarctic ecosystem."
   ]
  },
  {
   "cell_type": "markdown",
   "id": "b16f71e0-536b-4b90-8bba-306b8ddd4503",
   "metadata": {},
   "source": [
    "### Question 10\n",
    "#### Which combination of species and island has the largest flipper length?"
   ]
  },
  {
   "cell_type": "code",
   "execution_count": 28,
   "id": "aff37d27-2f94-461d-b170-2317c95f526f",
   "metadata": {},
   "outputs": [
    {
     "data": {
      "text/plain": [
       "species    island   \n",
       "Gentoo     Biscoe       217.186992\n",
       "Chinstrap  Dream        195.823529\n",
       "Adelie     Torgersen    191.196078\n",
       "           Dream        189.732143\n",
       "           Biscoe       188.795455\n",
       "Name: flipper_length_mm, dtype: float64"
      ]
     },
     "execution_count": 28,
     "metadata": {},
     "output_type": "execute_result"
    }
   ],
   "source": [
    "\n",
    "species_island_flipper = penguins_df.groupby(['species', 'island'], observed=True)['flipper_length_mm'].mean().sort_values(ascending=False)\n",
    "species_island_flipper.head()"
   ]
  },
  {
   "cell_type": "markdown",
   "id": "f5bdaeba-5571-48f2-9b65-57d6b443e002",
   "metadata": {},
   "source": [
    "### Insight 10\n",
    "#### The variation in flipper length across different species-island combinations suggests local adaptation to specific marine environments. Islands with different surrounding ocean conditions may select for different optimal flipper sizes, demonstrating how geography influences evolutionary adaptations."
   ]
  },
  {
   "cell_type": "markdown",
   "id": "11eee719-9b50-4bcc-acc4-79bceee8c261",
   "metadata": {},
   "source": [
    "### Question 11\n",
    "#### What is the distribution of body mass for each sex within each species?"
   ]
  },
  {
   "cell_type": "code",
   "execution_count": 29,
   "id": "f053935d-bf2c-4257-9dce-7f8ecb60e736",
   "metadata": {},
   "outputs": [
    {
     "data": {
      "text/html": [
       "<div>\n",
       "<style scoped>\n",
       "    .dataframe tbody tr th:only-of-type {\n",
       "        vertical-align: middle;\n",
       "    }\n",
       "\n",
       "    .dataframe tbody tr th {\n",
       "        vertical-align: top;\n",
       "    }\n",
       "\n",
       "    .dataframe thead th {\n",
       "        text-align: right;\n",
       "    }\n",
       "</style>\n",
       "<table border=\"1\" class=\"dataframe\">\n",
       "  <thead>\n",
       "    <tr style=\"text-align: right;\">\n",
       "      <th></th>\n",
       "      <th></th>\n",
       "      <th>count</th>\n",
       "      <th>mean</th>\n",
       "      <th>std</th>\n",
       "      <th>min</th>\n",
       "      <th>25%</th>\n",
       "      <th>50%</th>\n",
       "      <th>75%</th>\n",
       "      <th>max</th>\n",
       "    </tr>\n",
       "    <tr>\n",
       "      <th>species</th>\n",
       "      <th>sex</th>\n",
       "      <th></th>\n",
       "      <th></th>\n",
       "      <th></th>\n",
       "      <th></th>\n",
       "      <th></th>\n",
       "      <th></th>\n",
       "      <th></th>\n",
       "      <th></th>\n",
       "    </tr>\n",
       "  </thead>\n",
       "  <tbody>\n",
       "    <tr>\n",
       "      <th rowspan=\"2\" valign=\"top\">Adelie</th>\n",
       "      <th>female</th>\n",
       "      <td>73.0</td>\n",
       "      <td>3368.835616</td>\n",
       "      <td>269.380102</td>\n",
       "      <td>2850.0</td>\n",
       "      <td>3175.00</td>\n",
       "      <td>3400.0</td>\n",
       "      <td>3550.00</td>\n",
       "      <td>3900.0</td>\n",
       "    </tr>\n",
       "    <tr>\n",
       "      <th>male</th>\n",
       "      <td>73.0</td>\n",
       "      <td>4043.493151</td>\n",
       "      <td>346.811553</td>\n",
       "      <td>3325.0</td>\n",
       "      <td>3800.00</td>\n",
       "      <td>4000.0</td>\n",
       "      <td>4300.00</td>\n",
       "      <td>4775.0</td>\n",
       "    </tr>\n",
       "    <tr>\n",
       "      <th rowspan=\"2\" valign=\"top\">Chinstrap</th>\n",
       "      <th>female</th>\n",
       "      <td>34.0</td>\n",
       "      <td>3527.205882</td>\n",
       "      <td>285.333912</td>\n",
       "      <td>2700.0</td>\n",
       "      <td>3362.50</td>\n",
       "      <td>3550.0</td>\n",
       "      <td>3693.75</td>\n",
       "      <td>4150.0</td>\n",
       "    </tr>\n",
       "    <tr>\n",
       "      <th>male</th>\n",
       "      <td>34.0</td>\n",
       "      <td>3938.970588</td>\n",
       "      <td>362.137550</td>\n",
       "      <td>3250.0</td>\n",
       "      <td>3731.25</td>\n",
       "      <td>3950.0</td>\n",
       "      <td>4100.00</td>\n",
       "      <td>4800.0</td>\n",
       "    </tr>\n",
       "    <tr>\n",
       "      <th rowspan=\"2\" valign=\"top\">Gentoo</th>\n",
       "      <th>female</th>\n",
       "      <td>58.0</td>\n",
       "      <td>4679.741379</td>\n",
       "      <td>281.578294</td>\n",
       "      <td>3950.0</td>\n",
       "      <td>4462.50</td>\n",
       "      <td>4700.0</td>\n",
       "      <td>4875.00</td>\n",
       "      <td>5200.0</td>\n",
       "    </tr>\n",
       "    <tr>\n",
       "      <th>male</th>\n",
       "      <td>61.0</td>\n",
       "      <td>5484.836066</td>\n",
       "      <td>313.158596</td>\n",
       "      <td>4750.0</td>\n",
       "      <td>5300.00</td>\n",
       "      <td>5500.0</td>\n",
       "      <td>5700.00</td>\n",
       "      <td>6300.0</td>\n",
       "    </tr>\n",
       "  </tbody>\n",
       "</table>\n",
       "</div>"
      ],
      "text/plain": [
       "                  count         mean         std     min      25%     50%  \\\n",
       "species   sex                                                               \n",
       "Adelie    female   73.0  3368.835616  269.380102  2850.0  3175.00  3400.0   \n",
       "          male     73.0  4043.493151  346.811553  3325.0  3800.00  4000.0   \n",
       "Chinstrap female   34.0  3527.205882  285.333912  2700.0  3362.50  3550.0   \n",
       "          male     34.0  3938.970588  362.137550  3250.0  3731.25  3950.0   \n",
       "Gentoo    female   58.0  4679.741379  281.578294  3950.0  4462.50  4700.0   \n",
       "          male     61.0  5484.836066  313.158596  4750.0  5300.00  5500.0   \n",
       "\n",
       "                      75%     max  \n",
       "species   sex                      \n",
       "Adelie    female  3550.00  3900.0  \n",
       "          male    4300.00  4775.0  \n",
       "Chinstrap female  3693.75  4150.0  \n",
       "          male    4100.00  4800.0  \n",
       "Gentoo    female  4875.00  5200.0  \n",
       "          male    5700.00  6300.0  "
      ]
     },
     "execution_count": 29,
     "metadata": {},
     "output_type": "execute_result"
    }
   ],
   "source": [
    "\n",
    "species_sex_mass = penguins_df.groupby(['species', 'sex'], observed=True)['body_mass_g'].describe()\n",
    "species_sex_mass"
   ]
  },
  {
   "cell_type": "markdown",
   "id": "92c91cdb-62e2-41c0-b95e-31736a5ed316",
   "metadata": {},
   "source": [
    "### Insight 11\n",
    "#### Sexual dimorphism in body mass varies across penguin species, reflecting different reproductive strategies. Species with greater mass differences between sexes may have more specialized parental roles or stronger sexual selection pressures, providing insight into their evolutionary history."
   ]
  },
  {
   "cell_type": "markdown",
   "id": "75e4ddf6-2cc2-456f-bac5-b3957f830f2e",
   "metadata": {},
   "source": [
    "### Question 12\n",
    "#### Is there a correlation between flipper length and body mass across all penguin species?"
   ]
  },
  {
   "cell_type": "code",
   "execution_count": 31,
   "id": "d744f9fe-cc8a-48dc-8b5c-128c866ae07b",
   "metadata": {},
   "outputs": [
    {
     "data": {
      "text/html": [
       "<div>\n",
       "<style scoped>\n",
       "    .dataframe tbody tr th:only-of-type {\n",
       "        vertical-align: middle;\n",
       "    }\n",
       "\n",
       "    .dataframe tbody tr th {\n",
       "        vertical-align: top;\n",
       "    }\n",
       "\n",
       "    .dataframe thead th {\n",
       "        text-align: right;\n",
       "    }\n",
       "</style>\n",
       "<table border=\"1\" class=\"dataframe\">\n",
       "  <thead>\n",
       "    <tr style=\"text-align: right;\">\n",
       "      <th></th>\n",
       "      <th>flipper_length_mm</th>\n",
       "      <th>body_mass_g</th>\n",
       "    </tr>\n",
       "  </thead>\n",
       "  <tbody>\n",
       "    <tr>\n",
       "      <th>flipper_length_mm</th>\n",
       "      <td>1.000000</td>\n",
       "      <td>0.871202</td>\n",
       "    </tr>\n",
       "    <tr>\n",
       "      <th>body_mass_g</th>\n",
       "      <td>0.871202</td>\n",
       "      <td>1.000000</td>\n",
       "    </tr>\n",
       "  </tbody>\n",
       "</table>\n",
       "</div>"
      ],
      "text/plain": [
       "                   flipper_length_mm  body_mass_g\n",
       "flipper_length_mm           1.000000     0.871202\n",
       "body_mass_g                 0.871202     1.000000"
      ]
     },
     "execution_count": 31,
     "metadata": {},
     "output_type": "execute_result"
    }
   ],
   "source": [
    "\n",
    "mass_flipper_corr = penguins_df[['flipper_length_mm', 'body_mass_g']].corr()\n",
    "mass_flipper_corr"
   ]
  },
  {
   "cell_type": "markdown",
   "id": "1da5872c-c501-4fd0-b955-a7d0621ed5a8",
   "metadata": {},
   "source": [
    "### Insight 12\n",
    "#### The correlation between flipper length and body mass reveals allometric relationships in penguin physiology. A strong positive correlation would indicate that larger penguins require proportionally larger flippers for efficient swimming, demonstrating how body proportions scale with overall size to maintain functional efficiency."
   ]
  },
  {
   "cell_type": "markdown",
   "id": "5e0ae336-329a-425d-9115-dd0b5c9ba39b",
   "metadata": {},
   "source": [
    "### Question 13\n",
    "#### How does bill length vary by island, regardless of species?"
   ]
  },
  {
   "cell_type": "code",
   "execution_count": 34,
   "id": "8be26e31-2ee9-4e25-aea7-1d3f8a0f3f50",
   "metadata": {},
   "outputs": [
    {
     "data": {
      "text/html": [
       "<div>\n",
       "<style scoped>\n",
       "    .dataframe tbody tr th:only-of-type {\n",
       "        vertical-align: middle;\n",
       "    }\n",
       "\n",
       "    .dataframe tbody tr th {\n",
       "        vertical-align: top;\n",
       "    }\n",
       "\n",
       "    .dataframe thead th {\n",
       "        text-align: right;\n",
       "    }\n",
       "</style>\n",
       "<table border=\"1\" class=\"dataframe\">\n",
       "  <thead>\n",
       "    <tr style=\"text-align: right;\">\n",
       "      <th></th>\n",
       "      <th>mean</th>\n",
       "      <th>std</th>\n",
       "      <th>min</th>\n",
       "      <th>max</th>\n",
       "    </tr>\n",
       "    <tr>\n",
       "      <th>island</th>\n",
       "      <th></th>\n",
       "      <th></th>\n",
       "      <th></th>\n",
       "      <th></th>\n",
       "    </tr>\n",
       "  </thead>\n",
       "  <tbody>\n",
       "    <tr>\n",
       "      <th>Biscoe</th>\n",
       "      <td>45.257485</td>\n",
       "      <td>4.772731</td>\n",
       "      <td>34.5</td>\n",
       "      <td>59.6</td>\n",
       "    </tr>\n",
       "    <tr>\n",
       "      <th>Dream</th>\n",
       "      <td>44.167742</td>\n",
       "      <td>5.953527</td>\n",
       "      <td>32.1</td>\n",
       "      <td>58.0</td>\n",
       "    </tr>\n",
       "    <tr>\n",
       "      <th>Torgersen</th>\n",
       "      <td>38.950980</td>\n",
       "      <td>3.025318</td>\n",
       "      <td>33.5</td>\n",
       "      <td>46.0</td>\n",
       "    </tr>\n",
       "  </tbody>\n",
       "</table>\n",
       "</div>"
      ],
      "text/plain": [
       "                mean       std   min   max\n",
       "island                                    \n",
       "Biscoe     45.257485  4.772731  34.5  59.6\n",
       "Dream      44.167742  5.953527  32.1  58.0\n",
       "Torgersen  38.950980  3.025318  33.5  46.0"
      ]
     },
     "execution_count": 34,
     "metadata": {},
     "output_type": "execute_result"
    }
   ],
   "source": [
    "\n",
    "island_bill_length = penguins_df.groupby('island', observed=True)['bill_length_mm'].agg(['mean', 'std', 'min', 'max']).sort_values(by='mean', ascending=False)\n",
    "island_bill_length"
   ]
  },
  {
   "cell_type": "markdown",
   "id": "b3f97c9d-9ba2-4358-b7b4-86d4de87f738",
   "metadata": {},
   "source": [
    "### Insight 13\n",
    "#### Differences in bill length across islands may indicate local adaptation to available food resources. Islands with distinct prey profiles could select for different optimal bill lengths, showing how geographic isolation can drive morphological divergence even within the same species."
   ]
  },
  {
   "cell_type": "code",
   "execution_count": null,
   "id": "b2e2fbea-4ec4-496c-b734-322beff387a5",
   "metadata": {},
   "outputs": [],
   "source": []
  }
 ],
 "metadata": {
  "kernelspec": {
   "display_name": "Python [conda env:base] *",
   "language": "python",
   "name": "conda-base-py"
  },
  "language_info": {
   "codemirror_mode": {
    "name": "ipython",
    "version": 3
   },
   "file_extension": ".py",
   "mimetype": "text/x-python",
   "name": "python",
   "nbconvert_exporter": "python",
   "pygments_lexer": "ipython3",
   "version": "3.13.5"
  }
 },
 "nbformat": 4,
 "nbformat_minor": 5
}
