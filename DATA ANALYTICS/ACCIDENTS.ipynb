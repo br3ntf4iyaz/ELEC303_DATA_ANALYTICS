{
 "cells": [
  {
   "cell_type": "markdown",
   "id": "7a44acbf-710d-43b0-a534-decd0f25c45d",
   "metadata": {},
   "source": [
    "### Activity 2 - UK ROAD ACCIDENTS DATA ANALYTICS\n"
   ]
  },
  {
   "cell_type": "markdown",
   "id": "346b1ef7-dd94-42ab-b638-aaefb3143637",
   "metadata": {},
   "source": [
    "### Data Analyst: ANDREW OAREZA\n"
   ]
  },
  {
   "cell_type": "code",
   "execution_count": 1,
   "id": "b33540ef-a05a-449f-b264-4e48ac750593",
   "metadata": {},
   "outputs": [],
   "source": [
    "import pandas as pd\n",
    "import numpy as np\n",
    "import matplotlib.pyplot as plt\n",
    "import warnings\n",
    "warnings.filterwarnings('ignore')"
   ]
  },
  {
   "cell_type": "code",
   "execution_count": null,
   "id": "ad49f166-2ea5-42f5-bd8f-0f550a31426d",
   "metadata": {},
   "outputs": [],
   "source": []
  },
  {
   "cell_type": "markdown",
   "id": "d06fcc9a-74b7-4df8-a2f7-9739829805f0",
   "metadata": {},
   "source": [
    "### DESCRIPTIVE ANALYSIS"
   ]
  },
  {
   "cell_type": "code",
   "execution_count": 2,
   "id": "ebe18ed3-b873-4ab4-b37e-8611825b9124",
   "metadata": {},
   "outputs": [
    {
     "name": "stdout",
     "output_type": "stream",
     "text": [
      "           Index Accident_Severity Accident Date   Latitude  \\\n",
      "0  200701BS64157           Serious      5/6/2019  51.506187   \n",
      "1  200701BS65737           Serious      2/7/2019  51.495029   \n",
      "2  200701BS66127           Serious    26-08-2019  51.517715   \n",
      "3  200701BS66128           Serious    16-08-2019  51.495478   \n",
      "4  200701BS66837            Slight      3/9/2019  51.488576   \n",
      "\n",
      "              Light_Conditions           District Area  Longitude  \\\n",
      "0        Darkness - lights lit  Kensington and Chelsea  -0.209082   \n",
      "1                     Daylight  Kensington and Chelsea  -0.173647   \n",
      "2  Darkness - lighting unknown  Kensington and Chelsea  -0.210215   \n",
      "3                     Daylight  Kensington and Chelsea  -0.202731   \n",
      "4        Darkness - lights lit  Kensington and Chelsea  -0.192487   \n",
      "\n",
      "   Number_of_Casualties  Number_of_Vehicles Road_Surface_Conditions  \\\n",
      "0                     1                   2                     Dry   \n",
      "1                     1                   2             Wet or damp   \n",
      "2                     1                   3                     Dry   \n",
      "3                     1                   4                     Dry   \n",
      "4                     1                   2                     Dry   \n",
      "\n",
      "            Road_Type Urban_or_Rural_Area     Weather_Conditions  \\\n",
      "0  Single carriageway               Urban     Fine no high winds   \n",
      "1  Single carriageway               Urban  Raining no high winds   \n",
      "2                 NaN               Urban                    NaN   \n",
      "3  Single carriageway               Urban     Fine no high winds   \n",
      "4                 NaN               Urban                    NaN   \n",
      "\n",
      "                           Vehicle_Type  \n",
      "0                                   Car  \n",
      "1                                   Car  \n",
      "2                 Taxi/Private hire car  \n",
      "3  Bus or coach (17 or more pass seats)  \n",
      "4                         Other vehicle  \n",
      "<class 'pandas.core.frame.DataFrame'>\n",
      "RangeIndex: 660679 entries, 0 to 660678\n",
      "Data columns (total 14 columns):\n",
      " #   Column                   Non-Null Count   Dtype  \n",
      "---  ------                   --------------   -----  \n",
      " 0   Index                    660679 non-null  object \n",
      " 1   Accident_Severity        660679 non-null  object \n",
      " 2   Accident Date            660679 non-null  object \n",
      " 3   Latitude                 660654 non-null  float64\n",
      " 4   Light_Conditions         660679 non-null  object \n",
      " 5   District Area            660679 non-null  object \n",
      " 6   Longitude                660653 non-null  float64\n",
      " 7   Number_of_Casualties     660679 non-null  int64  \n",
      " 8   Number_of_Vehicles       660679 non-null  int64  \n",
      " 9   Road_Surface_Conditions  659953 non-null  object \n",
      " 10  Road_Type                656159 non-null  object \n",
      " 11  Urban_or_Rural_Area      660664 non-null  object \n",
      " 12  Weather_Conditions       646551 non-null  object \n",
      " 13  Vehicle_Type             660679 non-null  object \n",
      "dtypes: float64(2), int64(2), object(10)\n",
      "memory usage: 70.6+ MB\n",
      "None\n",
      "            Latitude      Longitude  Number_of_Casualties  Number_of_Vehicles\n",
      "count  660654.000000  660653.000000         660679.000000       660679.000000\n",
      "mean       52.553866      -1.431210              1.357040            1.831255\n",
      "std         1.406922       1.383330              0.824847            0.715269\n",
      "min        49.914430      -7.516225              1.000000            1.000000\n",
      "25%        51.490690      -2.332291              1.000000            1.000000\n",
      "50%        52.315641      -1.411667              1.000000            2.000000\n",
      "75%        53.453452      -0.232869              1.000000            2.000000\n",
      "max        60.757544       1.762010             68.000000           32.000000\n"
     ]
    }
   ],
   "source": [
    "file_path = r\"C:\\Users\\Matthew\\Downloads\\uk_road_accident.csv\"\n",
    "df = pd.read_csv(file_path)\n",
    "print(df.head())\n",
    "print(df.info())\n",
    "print(df.describe())"
   ]
  },
  {
   "cell_type": "markdown",
   "id": "133f112a-ed99-4481-b7cc-dcf2d4965c48",
   "metadata": {},
   "source": [
    "### FINDING MISSING DATAS"
   ]
  },
  {
   "cell_type": "code",
   "execution_count": 24,
   "id": "018a3ff9-d18d-4117-a71c-9282a6a43982",
   "metadata": {},
   "outputs": [
    {
     "data": {
      "text/plain": [
       "Index                           0\n",
       "Accident_Severity               0\n",
       "Accident Date              395672\n",
       "Latitude                       25\n",
       "Light_Conditions                0\n",
       "District Area                   0\n",
       "Longitude                      26\n",
       "Number_of_Casualties            0\n",
       "Number_of_Vehicles              0\n",
       "Road_Surface_Conditions       726\n",
       "Road_Type                    4520\n",
       "Urban_or_Rural_Area            15\n",
       "Weather_Conditions          14128\n",
       "Vehicle_Type                    0\n",
       "Month                      395672\n",
       "Year                       395672\n",
       "dtype: int64"
      ]
     },
     "execution_count": 24,
     "metadata": {},
     "output_type": "execute_result"
    }
   ],
   "source": [
    "df.isnull().sum()\n"
   ]
  },
  {
   "cell_type": "markdown",
   "id": "6f83fd6d-8228-46be-acdf-ebcf9b3a5a3a",
   "metadata": {},
   "source": [
    "### FILLING UP MISSING DATAS"
   ]
  },
  {
   "cell_type": "code",
   "execution_count": 27,
   "id": "95c7074f-aebe-4a76-a224-8d6f9c86d1c5",
   "metadata": {},
   "outputs": [
    {
     "data": {
      "text/plain": [
       "Index                           0\n",
       "Accident_Severity               0\n",
       "Accident Date              395672\n",
       "Latitude                        0\n",
       "Light_Conditions                0\n",
       "District Area                   0\n",
       "Longitude                       0\n",
       "Number_of_Casualties            0\n",
       "Number_of_Vehicles              0\n",
       "Road_Surface_Conditions         0\n",
       "Road_Type                       0\n",
       "Urban_or_Rural_Area             0\n",
       "Weather_Conditions              0\n",
       "Vehicle_Type                    0\n",
       "Month                      395672\n",
       "Year                       395672\n",
       "dtype: int64"
      ]
     },
     "execution_count": 27,
     "metadata": {},
     "output_type": "execute_result"
    }
   ],
   "source": [
    "df['Latitude'] = df['Latitude'].fillna(df['Latitude'].mean())\n",
    "df['Longitude'] = df['Longitude'].fillna(df['Longitude'].mean())\n",
    "df['Road_Surface_Conditions'] = df['Road_Surface_Conditions'].fillna(df['Road_Surface_Conditions'].mode()[0])\n",
    "df['Road_Type'] = df['Road_Type'].fillna(df['Road_Type'].mode()[0])\n",
    "df['Urban_or_Rural_Area'] = df['Urban_or_Rural_Area'].fillna(df['Urban_or_Rural_Area'].mode()[0])\n",
    "df['Weather_Conditions'] = df['Weather_Conditions'].fillna(df['Weather_Conditions'].mode()[0])\n",
    "df.isnull().sum()"
   ]
  },
  {
   "cell_type": "markdown",
   "id": "0a9f02cb-e887-44f5-a125-979ce486d6f1",
   "metadata": {},
   "source": [
    "### Changing data types\n"
   ]
  },
  {
   "cell_type": "code",
   "execution_count": 29,
   "id": "5d0b3785-3003-4276-8ba6-c1b51a840066",
   "metadata": {},
   "outputs": [
    {
     "name": "stdout",
     "output_type": "stream",
     "text": [
      "<class 'pandas.core.frame.DataFrame'>\n",
      "RangeIndex: 660679 entries, 0 to 660678\n",
      "Data columns (total 16 columns):\n",
      " #   Column                   Non-Null Count   Dtype         \n",
      "---  ------                   --------------   -----         \n",
      " 0   Index                    660679 non-null  object        \n",
      " 1   Accident_Severity        660679 non-null  object        \n",
      " 2   Accident Date            265007 non-null  datetime64[ns]\n",
      " 3   Latitude                 660679 non-null  float64       \n",
      " 4   Light_Conditions         660679 non-null  object        \n",
      " 5   District Area            660679 non-null  object        \n",
      " 6   Longitude                660679 non-null  float64       \n",
      " 7   Number_of_Casualties     660679 non-null  int64         \n",
      " 8   Number_of_Vehicles       660679 non-null  int64         \n",
      " 9   Road_Surface_Conditions  660679 non-null  object        \n",
      " 10  Road_Type                660679 non-null  object        \n",
      " 11  Urban_or_Rural_Area      660679 non-null  object        \n",
      " 12  Weather_Conditions       660679 non-null  object        \n",
      " 13  Vehicle_Type             660679 non-null  object        \n",
      " 14  Month                    265007 non-null  float64       \n",
      " 15  Year                     265007 non-null  float64       \n",
      "dtypes: datetime64[ns](1), float64(4), int64(2), object(9)\n",
      "memory usage: 80.6+ MB\n"
     ]
    }
   ],
   "source": [
    "df.info()\n"
   ]
  },
  {
   "cell_type": "code",
   "execution_count": 30,
   "id": "f9b3d539-faf7-49f6-9ec3-31172fe0936b",
   "metadata": {},
   "outputs": [
    {
     "name": "stdout",
     "output_type": "stream",
     "text": [
      "<class 'pandas.core.frame.DataFrame'>\n",
      "RangeIndex: 660679 entries, 0 to 660678\n",
      "Data columns (total 16 columns):\n",
      " #   Column                   Non-Null Count   Dtype   \n",
      "---  ------                   --------------   -----   \n",
      " 0   Index                    660679 non-null  category\n",
      " 1   Accident_Severity        660679 non-null  category\n",
      " 2   Accident Date            265007 non-null  category\n",
      " 3   Latitude                 660679 non-null  float64 \n",
      " 4   Light_Conditions         660679 non-null  category\n",
      " 5   District Area            660679 non-null  category\n",
      " 6   Longitude                660679 non-null  float64 \n",
      " 7   Number_of_Casualties     660679 non-null  int64   \n",
      " 8   Number_of_Vehicles       660679 non-null  int64   \n",
      " 9   Road_Surface_Conditions  660679 non-null  category\n",
      " 10  Road_Type                660679 non-null  category\n",
      " 11  Urban_or_Rural_Area      660679 non-null  category\n",
      " 12  Weather_Conditions       660679 non-null  category\n",
      " 13  Vehicle_Type             660679 non-null  category\n",
      " 14  Month                    265007 non-null  float64 \n",
      " 15  Year                     265007 non-null  float64 \n",
      "dtypes: category(10), float64(4), int64(2)\n",
      "memory usage: 59.1 MB\n"
     ]
    }
   ],
   "source": [
    "df['Index'] = df['Index'].astype('category')\n",
    "df['Accident_Severity'] = df['Accident_Severity'].astype('category')\n",
    "df['Accident Date'] = df['Accident Date'].astype('category')\n",
    "df['Light_Conditions'] = df['Light_Conditions'].astype('category')\n",
    "df['District Area'] = df['District Area'].astype('category')\n",
    "df['Road_Surface_Conditions'] = df['Road_Surface_Conditions'].astype('category')\n",
    "df['Road_Type'] = df['Road_Type'].astype('category')\n",
    "df['Urban_or_Rural_Area'] = df['Urban_or_Rural_Area'].astype('category')\n",
    "df['Weather_Conditions'] = df['Weather_Conditions'].astype('category')\n",
    "df['Vehicle_Type'] = df['Vehicle_Type'].astype('category')\n",
    "\n",
    "df.info()\n"
   ]
  },
  {
   "cell_type": "markdown",
   "id": "1d8b9157-6709-4023-ae15-78ea23fc4d91",
   "metadata": {},
   "source": [
    "### EXPLORATORY DATA ANALYSIS (EDA)"
   ]
  },
  {
   "cell_type": "markdown",
   "id": "d4b260e2-f7c7-4366-9cc5-cb180ed30376",
   "metadata": {},
   "source": [
    "### 1. Which district reports the highest proportion of Fatal accidents?"
   ]
  },
  {
   "cell_type": "code",
   "execution_count": 3,
   "id": "e4642521-7d26-4c3d-bf18-85c012311726",
   "metadata": {},
   "outputs": [
    {
     "data": {
      "text/html": [
       "<div>\n",
       "<style scoped>\n",
       "    .dataframe tbody tr th:only-of-type {\n",
       "        vertical-align: middle;\n",
       "    }\n",
       "\n",
       "    .dataframe tbody tr th {\n",
       "        vertical-align: top;\n",
       "    }\n",
       "\n",
       "    .dataframe thead th {\n",
       "        text-align: right;\n",
       "    }\n",
       "</style>\n",
       "<table border=\"1\" class=\"dataframe\">\n",
       "  <thead>\n",
       "    <tr style=\"text-align: right;\">\n",
       "      <th>Accident_Severity</th>\n",
       "      <th>Fatal</th>\n",
       "      <th>Serious</th>\n",
       "      <th>Slight</th>\n",
       "    </tr>\n",
       "    <tr>\n",
       "      <th>District Area</th>\n",
       "      <th></th>\n",
       "      <th></th>\n",
       "      <th></th>\n",
       "    </tr>\n",
       "  </thead>\n",
       "  <tbody>\n",
       "    <tr>\n",
       "      <th>Rutland</th>\n",
       "      <td>0.059382</td>\n",
       "      <td>0.154394</td>\n",
       "      <td>0.786223</td>\n",
       "    </tr>\n",
       "    <tr>\n",
       "      <th>Melton</th>\n",
       "      <td>0.046729</td>\n",
       "      <td>0.127103</td>\n",
       "      <td>0.826168</td>\n",
       "    </tr>\n",
       "    <tr>\n",
       "      <th>South Shropshire</th>\n",
       "      <td>0.045455</td>\n",
       "      <td>0.190909</td>\n",
       "      <td>0.763636</td>\n",
       "    </tr>\n",
       "    <tr>\n",
       "      <th>Harborough</th>\n",
       "      <td>0.045113</td>\n",
       "      <td>0.135338</td>\n",
       "      <td>0.819549</td>\n",
       "    </tr>\n",
       "    <tr>\n",
       "      <th>Blaeu Gwent</th>\n",
       "      <td>0.045045</td>\n",
       "      <td>0.180180</td>\n",
       "      <td>0.774775</td>\n",
       "    </tr>\n",
       "  </tbody>\n",
       "</table>\n",
       "</div>"
      ],
      "text/plain": [
       "Accident_Severity     Fatal   Serious    Slight\n",
       "District Area                                  \n",
       "Rutland            0.059382  0.154394  0.786223\n",
       "Melton             0.046729  0.127103  0.826168\n",
       "South Shropshire   0.045455  0.190909  0.763636\n",
       "Harborough         0.045113  0.135338  0.819549\n",
       "Blaeu Gwent        0.045045  0.180180  0.774775"
      ]
     },
     "execution_count": 3,
     "metadata": {},
     "output_type": "execute_result"
    }
   ],
   "source": [
    "district_severity = pd.crosstab(df['District Area'], df['Accident_Severity'], normalize='index')\n",
    "district_fatal_proportion = district_severity.sort_values(by='Fatal', ascending=False)\n",
    "district_fatal_proportion.head()"
   ]
  },
  {
   "cell_type": "markdown",
   "id": "ed5d8cfd-3b00-456c-add6-31940233a142",
   "metadata": {},
   "source": [
    "#### This analysis identifies that Rutland have the highest percentage of fatal accidents relative to their total accident count. Districts at the top of this list may need targeted road safety interventions."
   ]
  },
  {
   "cell_type": "markdown",
   "id": "8e8b9b0d-5937-4446-b569-f8a9735ae0b9",
   "metadata": {},
   "source": [
    "\n",
    "### 2. What is the correlation between numerical features?"
   ]
  },
  {
   "cell_type": "code",
   "execution_count": 4,
   "id": "3afb1f32-ebbb-44ec-ab7b-cdaa1ac1bdd2",
   "metadata": {},
   "outputs": [
    {
     "data": {
      "text/html": [
       "<div>\n",
       "<style scoped>\n",
       "    .dataframe tbody tr th:only-of-type {\n",
       "        vertical-align: middle;\n",
       "    }\n",
       "\n",
       "    .dataframe tbody tr th {\n",
       "        vertical-align: top;\n",
       "    }\n",
       "\n",
       "    .dataframe thead th {\n",
       "        text-align: right;\n",
       "    }\n",
       "</style>\n",
       "<table border=\"1\" class=\"dataframe\">\n",
       "  <thead>\n",
       "    <tr style=\"text-align: right;\">\n",
       "      <th></th>\n",
       "      <th>Latitude</th>\n",
       "      <th>Longitude</th>\n",
       "      <th>Number_of_Casualties</th>\n",
       "      <th>Number_of_Vehicles</th>\n",
       "    </tr>\n",
       "  </thead>\n",
       "  <tbody>\n",
       "    <tr>\n",
       "      <th>Latitude</th>\n",
       "      <td>1.000000</td>\n",
       "      <td>-0.398114</td>\n",
       "      <td>0.032201</td>\n",
       "      <td>-0.040028</td>\n",
       "    </tr>\n",
       "    <tr>\n",
       "      <th>Longitude</th>\n",
       "      <td>-0.398114</td>\n",
       "      <td>1.000000</td>\n",
       "      <td>-0.040406</td>\n",
       "      <td>0.014725</td>\n",
       "    </tr>\n",
       "    <tr>\n",
       "      <th>Number_of_Casualties</th>\n",
       "      <td>0.032201</td>\n",
       "      <td>-0.040406</td>\n",
       "      <td>1.000000</td>\n",
       "      <td>0.228889</td>\n",
       "    </tr>\n",
       "    <tr>\n",
       "      <th>Number_of_Vehicles</th>\n",
       "      <td>-0.040028</td>\n",
       "      <td>0.014725</td>\n",
       "      <td>0.228889</td>\n",
       "      <td>1.000000</td>\n",
       "    </tr>\n",
       "  </tbody>\n",
       "</table>\n",
       "</div>"
      ],
      "text/plain": [
       "                      Latitude  Longitude  Number_of_Casualties  \\\n",
       "Latitude              1.000000  -0.398114              0.032201   \n",
       "Longitude            -0.398114   1.000000             -0.040406   \n",
       "Number_of_Casualties  0.032201  -0.040406              1.000000   \n",
       "Number_of_Vehicles   -0.040028   0.014725              0.228889   \n",
       "\n",
       "                      Number_of_Vehicles  \n",
       "Latitude                       -0.040028  \n",
       "Longitude                       0.014725  \n",
       "Number_of_Casualties            0.228889  \n",
       "Number_of_Vehicles              1.000000  "
      ]
     },
     "execution_count": 4,
     "metadata": {},
     "output_type": "execute_result"
    }
   ],
   "source": [
    "df[['Latitude', 'Longitude', 'Number_of_Casualties', 'Number_of_Vehicles']].corr()"
   ]
  },
  {
   "cell_type": "markdown",
   "id": "d92c38ca-c71a-4b91-9bb0-0de47a15663f",
   "metadata": {},
   "source": [
    "#### This correlation matrix reveals relationships between location coordinates and accident severity metrics. A strong positive correlation between Number_of_Casualties and Number_of_Vehicles would suggest that accidents involving more vehicles tend to result in more casualties."
   ]
  },
  {
   "cell_type": "markdown",
   "id": "43c881b1-42db-4ebb-b5ed-04e16efd0595",
   "metadata": {},
   "source": [
    "### 3. What is the distribution of accident severity?"
   ]
  },
  {
   "cell_type": "code",
   "execution_count": 5,
   "id": "eaece931-6623-40f2-bf4f-e8f63616b0b1",
   "metadata": {},
   "outputs": [
    {
     "data": {
      "text/plain": [
       "Accident_Severity\n",
       "Slight     563801\n",
       "Serious     88217\n",
       "Fatal        8661\n",
       "Name: count, dtype: int64"
      ]
     },
     "execution_count": 5,
     "metadata": {},
     "output_type": "execute_result"
    }
   ],
   "source": [
    "df['Accident_Severity'].value_counts()"
   ]
  },
  {
   "cell_type": "markdown",
   "id": "393008b3-3c6d-401c-b962-7010323c3058",
   "metadata": {},
   "source": [
    "#### This shows the frequency of each accident severity category, helping us understand the overall distribution of accident outcomes. It provides context for how common fatal accidents are compared to less severe ones."
   ]
  },
  {
   "cell_type": "markdown",
   "id": "54333a4a-b861-4679-972a-36ce5a28233b",
   "metadata": {},
   "source": [
    "\n",
    "### 4. What is the average number of casualties by accident severity?"
   ]
  },
  {
   "cell_type": "code",
   "execution_count": 6,
   "id": "42f22bfa-b48e-4ddc-928f-65c5012fd011",
   "metadata": {},
   "outputs": [
    {
     "data": {
      "text/plain": [
       "Accident_Severity\n",
       "Fatal      1.903129\n",
       "Serious    1.467280\n",
       "Slight     1.331402\n",
       "Name: Number_of_Casualties, dtype: float64"
      ]
     },
     "execution_count": 6,
     "metadata": {},
     "output_type": "execute_result"
    }
   ],
   "source": [
    "df.groupby('Accident_Severity')['Number_of_Casualties'].mean().sort_values(ascending=False)"
   ]
  },
  {
   "cell_type": "markdown",
   "id": "b8937251-f681-498e-a100-7788a3ea8284",
   "metadata": {},
   "source": [
    "#### This analysis reveals how the average number of casualties varies by accident severity classification. We would expect fatal accidents to have higher casualty counts, but the magnitude of difference is important for understanding the relationship between severity classification and actual human impact.\n"
   ]
  },
  {
   "cell_type": "markdown",
   "id": "210ca962-4205-492c-bc7f-bc85b4b8d339",
   "metadata": {},
   "source": [
    "### 5. What is the relationship between Road_Type and Accident_Severity?"
   ]
  },
  {
   "cell_type": "code",
   "execution_count": 7,
   "id": "0ed3d8a9-e93e-4f83-bb4e-e53bd56cce38",
   "metadata": {},
   "outputs": [
    {
     "data": {
      "text/html": [
       "<div>\n",
       "<style scoped>\n",
       "    .dataframe tbody tr th:only-of-type {\n",
       "        vertical-align: middle;\n",
       "    }\n",
       "\n",
       "    .dataframe tbody tr th {\n",
       "        vertical-align: top;\n",
       "    }\n",
       "\n",
       "    .dataframe thead th {\n",
       "        text-align: right;\n",
       "    }\n",
       "</style>\n",
       "<table border=\"1\" class=\"dataframe\">\n",
       "  <thead>\n",
       "    <tr style=\"text-align: right;\">\n",
       "      <th>Accident_Severity</th>\n",
       "      <th>Fatal</th>\n",
       "      <th>Serious</th>\n",
       "      <th>Slight</th>\n",
       "    </tr>\n",
       "    <tr>\n",
       "      <th>Road_Type</th>\n",
       "      <th></th>\n",
       "      <th></th>\n",
       "      <th></th>\n",
       "    </tr>\n",
       "  </thead>\n",
       "  <tbody>\n",
       "    <tr>\n",
       "      <th>Dual carriageway</th>\n",
       "      <td>0.018255</td>\n",
       "      <td>0.118140</td>\n",
       "      <td>0.863604</td>\n",
       "    </tr>\n",
       "    <tr>\n",
       "      <th>One way street</th>\n",
       "      <td>0.007006</td>\n",
       "      <td>0.122059</td>\n",
       "      <td>0.870934</td>\n",
       "    </tr>\n",
       "    <tr>\n",
       "      <th>Roundabout</th>\n",
       "      <td>0.003228</td>\n",
       "      <td>0.083311</td>\n",
       "      <td>0.913462</td>\n",
       "    </tr>\n",
       "    <tr>\n",
       "      <th>Single carriageway</th>\n",
       "      <td>0.013262</td>\n",
       "      <td>0.142355</td>\n",
       "      <td>0.844383</td>\n",
       "    </tr>\n",
       "    <tr>\n",
       "      <th>Slip road</th>\n",
       "      <td>0.006959</td>\n",
       "      <td>0.086777</td>\n",
       "      <td>0.906263</td>\n",
       "    </tr>\n",
       "  </tbody>\n",
       "</table>\n",
       "</div>"
      ],
      "text/plain": [
       "Accident_Severity      Fatal   Serious    Slight\n",
       "Road_Type                                       \n",
       "Dual carriageway    0.018255  0.118140  0.863604\n",
       "One way street      0.007006  0.122059  0.870934\n",
       "Roundabout          0.003228  0.083311  0.913462\n",
       "Single carriageway  0.013262  0.142355  0.844383\n",
       "Slip road           0.006959  0.086777  0.906263"
      ]
     },
     "execution_count": 7,
     "metadata": {},
     "output_type": "execute_result"
    }
   ],
   "source": [
    "pd.crosstab(df['Road_Type'], df['Accident_Severity'], normalize='index')"
   ]
  },
  {
   "cell_type": "markdown",
   "id": "f3849e74-a13c-4228-afdf-dbe634155dd5",
   "metadata": {},
   "source": [
    "\n",
    "#### This cross-tabulation shows which road types have higher proportions of fatal or serious accidents. Certain road types (like motorways or rural roads) may be associated with more severe accident outcomes due to factors like speed limits or road design.\n"
   ]
  },
  {
   "cell_type": "markdown",
   "id": "04e691f8-144f-43ce-88a8-2e20acb3feaf",
   "metadata": {},
   "source": [
    "### 6. What is the distribution of accidents by Light_Conditions?"
   ]
  },
  {
   "cell_type": "code",
   "execution_count": 8,
   "id": "31efad7b-4071-4427-8f60-5a811b754c73",
   "metadata": {},
   "outputs": [
    {
     "data": {
      "text/plain": [
       "Light_Conditions\n",
       "Daylight                       484880\n",
       "Darkness - lights lit          129335\n",
       "Darkness - no lighting          37437\n",
       "Darkness - lighting unknown      6484\n",
       "Darkness - lights unlit          2543\n",
       "Name: count, dtype: int64"
      ]
     },
     "execution_count": 8,
     "metadata": {},
     "output_type": "execute_result"
    }
   ],
   "source": [
    "df['Light_Conditions'].value_counts()"
   ]
  },
  {
   "cell_type": "markdown",
   "id": "0086ace4-6c16-4941-8839-56b0332ccf26",
   "metadata": {},
   "source": [
    "#### This analysis shows when accidents are most likely to occur in terms of lighting conditions. A high proportion of accidents during darkness might suggest issues with visibility, street lighting, or driver fatigue.\n"
   ]
  },
  {
   "cell_type": "markdown",
   "id": "db0491bf-2e6a-4604-892c-41f9ca8e6e9e",
   "metadata": {},
   "source": [
    "### 7. What is the relationship between Weather_Conditions and Accident_Severity?\n"
   ]
  },
  {
   "cell_type": "code",
   "execution_count": 9,
   "id": "828b0ae1-f5e4-4d1a-875f-f5428857e8f0",
   "metadata": {},
   "outputs": [
    {
     "data": {
      "text/html": [
       "<div>\n",
       "<style scoped>\n",
       "    .dataframe tbody tr th:only-of-type {\n",
       "        vertical-align: middle;\n",
       "    }\n",
       "\n",
       "    .dataframe tbody tr th {\n",
       "        vertical-align: top;\n",
       "    }\n",
       "\n",
       "    .dataframe thead th {\n",
       "        text-align: right;\n",
       "    }\n",
       "</style>\n",
       "<table border=\"1\" class=\"dataframe\">\n",
       "  <thead>\n",
       "    <tr style=\"text-align: right;\">\n",
       "      <th>Accident_Severity</th>\n",
       "      <th>Fatal</th>\n",
       "      <th>Serious</th>\n",
       "      <th>Slight</th>\n",
       "    </tr>\n",
       "    <tr>\n",
       "      <th>Weather_Conditions</th>\n",
       "      <th></th>\n",
       "      <th></th>\n",
       "      <th></th>\n",
       "    </tr>\n",
       "  </thead>\n",
       "  <tbody>\n",
       "    <tr>\n",
       "      <th>Fine + high winds</th>\n",
       "      <td>0.020458</td>\n",
       "      <td>0.145546</td>\n",
       "      <td>0.833996</td>\n",
       "    </tr>\n",
       "    <tr>\n",
       "      <th>Fine no high winds</th>\n",
       "      <td>0.013631</td>\n",
       "      <td>0.138315</td>\n",
       "      <td>0.848055</td>\n",
       "    </tr>\n",
       "    <tr>\n",
       "      <th>Fog or mist</th>\n",
       "      <td>0.023243</td>\n",
       "      <td>0.136905</td>\n",
       "      <td>0.839853</td>\n",
       "    </tr>\n",
       "    <tr>\n",
       "      <th>Other</th>\n",
       "      <td>0.009621</td>\n",
       "      <td>0.105015</td>\n",
       "      <td>0.885364</td>\n",
       "    </tr>\n",
       "    <tr>\n",
       "      <th>Raining + high winds</th>\n",
       "      <td>0.015081</td>\n",
       "      <td>0.131149</td>\n",
       "      <td>0.853770</td>\n",
       "    </tr>\n",
       "    <tr>\n",
       "      <th>Raining no high winds</th>\n",
       "      <td>0.010640</td>\n",
       "      <td>0.118801</td>\n",
       "      <td>0.870558</td>\n",
       "    </tr>\n",
       "    <tr>\n",
       "      <th>Snowing + high winds</th>\n",
       "      <td>0.003390</td>\n",
       "      <td>0.123164</td>\n",
       "      <td>0.873446</td>\n",
       "    </tr>\n",
       "    <tr>\n",
       "      <th>Snowing no high winds</th>\n",
       "      <td>0.005771</td>\n",
       "      <td>0.090574</td>\n",
       "      <td>0.903655</td>\n",
       "    </tr>\n",
       "  </tbody>\n",
       "</table>\n",
       "</div>"
      ],
      "text/plain": [
       "Accident_Severity         Fatal   Serious    Slight\n",
       "Weather_Conditions                                 \n",
       "Fine + high winds      0.020458  0.145546  0.833996\n",
       "Fine no high winds     0.013631  0.138315  0.848055\n",
       "Fog or mist            0.023243  0.136905  0.839853\n",
       "Other                  0.009621  0.105015  0.885364\n",
       "Raining + high winds   0.015081  0.131149  0.853770\n",
       "Raining no high winds  0.010640  0.118801  0.870558\n",
       "Snowing + high winds   0.003390  0.123164  0.873446\n",
       "Snowing no high winds  0.005771  0.090574  0.903655"
      ]
     },
     "execution_count": 9,
     "metadata": {},
     "output_type": "execute_result"
    }
   ],
   "source": [
    "pd.crosstab(df['Weather_Conditions'], df['Accident_Severity'], normalize='index')"
   ]
  },
  {
   "cell_type": "markdown",
   "id": "80318abb-cd26-4dff-8e31-4d21a87ce550",
   "metadata": {},
   "source": [
    "#### This reveals whether certain weather conditions are associated with more severe accident outcomes. For example, we might find that fog or ice leads to proportionally more fatal accidents than clear conditions.\n"
   ]
  },
  {
   "cell_type": "markdown",
   "id": "f516fa7b-f9d3-4e4d-a650-b2657be80214",
   "metadata": {},
   "source": [
    "### 8. What is the average number of vehicles involved by Road_Type?"
   ]
  },
  {
   "cell_type": "code",
   "execution_count": 10,
   "id": "e5beb692-9a76-4cc0-a94d-0c52bba8ddfe",
   "metadata": {},
   "outputs": [
    {
     "data": {
      "text/plain": [
       "Road_Type\n",
       "Dual carriageway      2.009766\n",
       "Slip road             1.917483\n",
       "Roundabout            1.901323\n",
       "Single carriageway    1.795911\n",
       "One way street        1.585441\n",
       "Name: Number_of_Vehicles, dtype: float64"
      ]
     },
     "execution_count": 10,
     "metadata": {},
     "output_type": "execute_result"
    }
   ],
   "source": [
    "df.groupby('Road_Type')['Number_of_Vehicles'].mean().sort_values(ascending=False)"
   ]
  },
  {
   "cell_type": "markdown",
   "id": "336487ba-8cb2-44d4-b225-97ff1ab67802",
   "metadata": {},
   "source": [
    "#### This analysis shows which road types tend to involve more vehicles in accidents. Multi-lane highways might show higher vehicle involvement than single carriageways, reflecting different traffic patterns and collision types."
   ]
  },
  {
   "cell_type": "markdown",
   "id": "6eed83fd-9d14-4928-a41f-38ad2039aa88",
   "metadata": {},
   "source": [
    "\n",
    "### 9. What is the distribution of accidents by Urban_or_Rural_Area?"
   ]
  },
  {
   "cell_type": "code",
   "execution_count": 11,
   "id": "7156871d-1b48-4de2-ab04-66375f02c17c",
   "metadata": {},
   "outputs": [
    {
     "data": {
      "text/plain": [
       "Urban_or_Rural_Area\n",
       "Urban          421663\n",
       "Rural          238990\n",
       "Unallocated        11\n",
       "Name: count, dtype: int64"
      ]
     },
     "execution_count": 11,
     "metadata": {},
     "output_type": "execute_result"
    }
   ],
   "source": [
    "df['Urban_or_Rural_Area'].value_counts()"
   ]
  },
  {
   "cell_type": "markdown",
   "id": "7a8bbc2d-939f-4b88-b2de-51f82fd9ffbd",
   "metadata": {},
   "source": [
    "#### This shows whether accidents occur more frequently in urban or rural settings. While urban areas may have more accidents due to higher traffic volume, rural accidents might be more severe due to higher speeds."
   ]
  },
  {
   "cell_type": "markdown",
   "id": "8fcb9ff3-a61f-4b5e-93a8-8c585ca90b99",
   "metadata": {},
   "source": [
    "### 10. What is the relationship between Urban_or_Rural_Area and Accident_Severity?"
   ]
  },
  {
   "cell_type": "code",
   "execution_count": 12,
   "id": "4cd312da-056b-4cd0-9d82-df1f2726fe28",
   "metadata": {},
   "outputs": [
    {
     "data": {
      "text/html": [
       "<div>\n",
       "<style scoped>\n",
       "    .dataframe tbody tr th:only-of-type {\n",
       "        vertical-align: middle;\n",
       "    }\n",
       "\n",
       "    .dataframe tbody tr th {\n",
       "        vertical-align: top;\n",
       "    }\n",
       "\n",
       "    .dataframe thead th {\n",
       "        text-align: right;\n",
       "    }\n",
       "</style>\n",
       "<table border=\"1\" class=\"dataframe\">\n",
       "  <thead>\n",
       "    <tr style=\"text-align: right;\">\n",
       "      <th>Accident_Severity</th>\n",
       "      <th>Fatal</th>\n",
       "      <th>Serious</th>\n",
       "      <th>Slight</th>\n",
       "    </tr>\n",
       "    <tr>\n",
       "      <th>Urban_or_Rural_Area</th>\n",
       "      <th></th>\n",
       "      <th></th>\n",
       "      <th></th>\n",
       "    </tr>\n",
       "  </thead>\n",
       "  <tbody>\n",
       "    <tr>\n",
       "      <th>Rural</th>\n",
       "      <td>0.023436</td>\n",
       "      <td>0.156124</td>\n",
       "      <td>0.820440</td>\n",
       "    </tr>\n",
       "    <tr>\n",
       "      <th>Unallocated</th>\n",
       "      <td>0.000000</td>\n",
       "      <td>0.090909</td>\n",
       "      <td>0.909091</td>\n",
       "    </tr>\n",
       "    <tr>\n",
       "      <th>Urban</th>\n",
       "      <td>0.007257</td>\n",
       "      <td>0.120717</td>\n",
       "      <td>0.872026</td>\n",
       "    </tr>\n",
       "  </tbody>\n",
       "</table>\n",
       "</div>"
      ],
      "text/plain": [
       "Accident_Severity       Fatal   Serious    Slight\n",
       "Urban_or_Rural_Area                              \n",
       "Rural                0.023436  0.156124  0.820440\n",
       "Unallocated          0.000000  0.090909  0.909091\n",
       "Urban                0.007257  0.120717  0.872026"
      ]
     },
     "execution_count": 12,
     "metadata": {},
     "output_type": "execute_result"
    }
   ],
   "source": [
    "pd.crosstab(df['Urban_or_Rural_Area'], df['Accident_Severity'], normalize='index')"
   ]
  },
  {
   "cell_type": "markdown",
   "id": "276c7adb-c947-4077-a4e2-649c9028ae70",
   "metadata": {},
   "source": [
    "#### This analysis reveals whether urban or rural accidents tend to be more severe. Rural roads often have higher fatality rates despite fewer total accidents, potentially due to higher speeds, delayed emergency response, or road design factors."
   ]
  },
  {
   "cell_type": "markdown",
   "id": "b0f67c27-e5ff-470f-8b97-ce3279699e7f",
   "metadata": {},
   "source": [
    "### 11. What is the relationship between road surface conditions and accident severity in different districts?"
   ]
  },
  {
   "cell_type": "code",
   "execution_count": 13,
   "id": "87f4b749-2487-4126-99d8-a790a3af3796",
   "metadata": {},
   "outputs": [
    {
     "data": {
      "text/html": [
       "<div>\n",
       "<style scoped>\n",
       "    .dataframe tbody tr th:only-of-type {\n",
       "        vertical-align: middle;\n",
       "    }\n",
       "\n",
       "    .dataframe tbody tr th {\n",
       "        vertical-align: top;\n",
       "    }\n",
       "\n",
       "    .dataframe thead th {\n",
       "        text-align: right;\n",
       "    }\n",
       "</style>\n",
       "<table border=\"1\" class=\"dataframe\">\n",
       "  <thead>\n",
       "    <tr style=\"text-align: right;\">\n",
       "      <th>Accident_Severity</th>\n",
       "      <th>Fatal</th>\n",
       "      <th>Serious</th>\n",
       "      <th>Slight</th>\n",
       "    </tr>\n",
       "    <tr>\n",
       "      <th>Road_Surface_Conditions</th>\n",
       "      <th></th>\n",
       "      <th></th>\n",
       "      <th></th>\n",
       "    </tr>\n",
       "  </thead>\n",
       "  <tbody>\n",
       "    <tr>\n",
       "      <th>Dry</th>\n",
       "      <td>0.012925</td>\n",
       "      <td>0.137640</td>\n",
       "      <td>0.849435</td>\n",
       "    </tr>\n",
       "    <tr>\n",
       "      <th>Flood over 3cm. deep</th>\n",
       "      <td>0.022616</td>\n",
       "      <td>0.149459</td>\n",
       "      <td>0.827925</td>\n",
       "    </tr>\n",
       "    <tr>\n",
       "      <th>Frost or ice</th>\n",
       "      <td>0.010423</td>\n",
       "      <td>0.108387</td>\n",
       "      <td>0.881190</td>\n",
       "    </tr>\n",
       "    <tr>\n",
       "      <th>Snow</th>\n",
       "      <td>0.005942</td>\n",
       "      <td>0.095925</td>\n",
       "      <td>0.898132</td>\n",
       "    </tr>\n",
       "    <tr>\n",
       "      <th>Wet or damp</th>\n",
       "      <td>0.014033</td>\n",
       "      <td>0.127391</td>\n",
       "      <td>0.858576</td>\n",
       "    </tr>\n",
       "  </tbody>\n",
       "</table>\n",
       "</div>"
      ],
      "text/plain": [
       "Accident_Severity           Fatal   Serious    Slight\n",
       "Road_Surface_Conditions                              \n",
       "Dry                      0.012925  0.137640  0.849435\n",
       "Flood over 3cm. deep     0.022616  0.149459  0.827925\n",
       "Frost or ice             0.010423  0.108387  0.881190\n",
       "Snow                     0.005942  0.095925  0.898132\n",
       "Wet or damp              0.014033  0.127391  0.858576"
      ]
     },
     "execution_count": 13,
     "metadata": {},
     "output_type": "execute_result"
    }
   ],
   "source": [
    "road_surface_severity = pd.crosstab(df['Road_Surface_Conditions'], df['Accident_Severity'], normalize='index')\n",
    "road_surface_severity\n"
   ]
  },
  {
   "cell_type": "markdown",
   "id": "37475e63-c347-4693-b35d-ed823e6502d4",
   "metadata": {},
   "source": [
    "#### Analysis:\n",
    "\n",
    "This analysis shows the proportion of each accident severity (Fatal, Serious, Slight) for different road surface conditions. By examining the table, we can identify which road surface conditions, such as Wet or Damp or Dry, are associated with higher severity accidents."
   ]
  },
  {
   "cell_type": "markdown",
   "id": "9caf0a29-2572-4e80-9b67-729ebb7feb62",
   "metadata": {},
   "source": [
    "### 12. How do weather conditions correlate with the occurrence of fatal accidents in urban areas?|"
   ]
  },
  {
   "cell_type": "code",
   "execution_count": 14,
   "id": "faf2265f-c630-4bc8-98f7-e42d6fe48615",
   "metadata": {},
   "outputs": [
    {
     "data": {
      "text/plain": [
       "Weather_Conditions\n",
       "Fine + high winds        0.013816\n",
       "Fog or mist              0.010499\n",
       "Raining + high winds     0.007972\n",
       "Fine no high winds       0.007591\n",
       "Raining no high winds    0.005792\n",
       "Other                    0.004993\n",
       "Snowing no high winds    0.002196\n",
       "Snowing + high winds     0.000000\n",
       "Name: Fatal, dtype: float64"
      ]
     },
     "execution_count": 14,
     "metadata": {},
     "output_type": "execute_result"
    }
   ],
   "source": [
    "urban_accidents = df[df['Urban_or_Rural_Area'] == 'Urban']\n",
    "weather_severity = pd.crosstab(urban_accidents['Weather_Conditions'], urban_accidents['Accident_Severity'], normalize='index')\n",
    "fatal_weather = weather_severity['Fatal']\n",
    "fatal_weather.sort_values(ascending=False)\n"
   ]
  },
  {
   "cell_type": "markdown",
   "id": "b37c8d10-084b-409a-b67e-eeb235bafbe2",
   "metadata": {},
   "source": [
    "#### Analysis:\n",
    "\n",
    "This analysis shows the correlation between weather conditions and the occurrence of fatal accidents in urban areas. By examining the proportions of fatal accidents across different weather conditions, we can observe whether certain weather conditions, such as Raining or Snowing, increase the likelihood of fatal accidents."
   ]
  },
  {
   "cell_type": "markdown",
   "id": "8ed588a3-353e-4f20-b541-4d408b238640",
   "metadata": {},
   "source": [
    "### 13. What is the trend of accidents over time, based on the date of occurrence? Are there any seasonal patterns?"
   ]
  },
  {
   "cell_type": "code",
   "execution_count": 15,
   "id": "a16c119e-14d9-44de-9913-7f63baba3d12",
   "metadata": {},
   "outputs": [
    {
     "data": {
      "text/plain": [
       "Month\n",
       "1.0     22606\n",
       "2.0     21815\n",
       "3.0     21540\n",
       "4.0     21699\n",
       "5.0     22409\n",
       "6.0     21974\n",
       "7.0     21431\n",
       "8.0     21914\n",
       "9.0     22252\n",
       "10.0    22328\n",
       "11.0    22503\n",
       "12.0    22536\n",
       "dtype: int64"
      ]
     },
     "execution_count": 15,
     "metadata": {},
     "output_type": "execute_result"
    }
   ],
   "source": [
    "df['Accident Date'] = pd.to_datetime(df['Accident Date'], errors='coerce')\n",
    "df['Month'] = df['Accident Date'].dt.month\n",
    "df['Year'] = df['Accident Date'].dt.year\n",
    "monthly_accidents = df.groupby('Month').size()\n",
    "monthly_accidents\n"
   ]
  },
  {
   "cell_type": "markdown",
   "id": "af2305cf-3ad4-40fa-8283-000f0d58e26a",
   "metadata": {},
   "source": [
    "### Analysis:\n",
    "\n",
    "This analysis shows the number of accidents that occurred each month. By looking at the data, we can identify seasonal patterns in accident occurrences, such as whether certain months have higher accident rates, indicating possible weather or traffic factors."
   ]
  },
  {
   "cell_type": "markdown",
   "id": "7e6732d5-1fc0-42e9-a769-d8d41104884b",
   "metadata": {},
   "source": [
    "### 14. Which district has the highest rate of serious accidents, and what factors contribute to this?"
   ]
  },
  {
   "cell_type": "code",
   "execution_count": 16,
   "id": "065273d2-d1f6-4aae-9f71-ed784564251d",
   "metadata": {},
   "outputs": [
    {
     "data": {
      "text/plain": [
       "District Area\n",
       "Ryedale                   0.309293\n",
       "Dumfries and Galloway     0.251170\n",
       "Daventry                  0.250554\n",
       "South Northamptonshire    0.249715\n",
       "Richmondshire             0.246556\n",
       "Name: Serious, dtype: float64"
      ]
     },
     "execution_count": 16,
     "metadata": {},
     "output_type": "execute_result"
    }
   ],
   "source": [
    "district_severity = pd.crosstab(df['District Area'], df['Accident_Severity'], normalize='index')\n",
    "district_serious = district_severity['Serious']\n",
    "district_serious_sorted = district_serious.sort_values(ascending=False)\n",
    "district_serious_sorted.head()\n"
   ]
  },
  {
   "cell_type": "markdown",
   "id": "5ec25728-6e45-45b6-852e-d501032a9f02",
   "metadata": {},
   "source": [
    "#### Analysis:\n",
    "\n",
    "This analysis shows which districts have the highest proportion of serious accidents. By looking at the results, we can identify districts that may require targeted safety interventions, such as improved road infrastructure or increased enforcement of traffic laws."
   ]
  },
  {
   "cell_type": "markdown",
   "id": "21f904f3-d1b5-4153-8978-4ad3b95da118",
   "metadata": {},
   "source": [
    "### 15. What is the correlation between the number of vehicles involved and the severity of accidents?"
   ]
  },
  {
   "cell_type": "code",
   "execution_count": 17,
   "id": "49998cd4-a874-40f5-a446-4ebae160ba3a",
   "metadata": {},
   "outputs": [
    {
     "data": {
      "text/html": [
       "<div>\n",
       "<style scoped>\n",
       "    .dataframe tbody tr th:only-of-type {\n",
       "        vertical-align: middle;\n",
       "    }\n",
       "\n",
       "    .dataframe tbody tr th {\n",
       "        vertical-align: top;\n",
       "    }\n",
       "\n",
       "    .dataframe thead th {\n",
       "        text-align: right;\n",
       "    }\n",
       "</style>\n",
       "<table border=\"1\" class=\"dataframe\">\n",
       "  <thead>\n",
       "    <tr style=\"text-align: right;\">\n",
       "      <th>Accident_Severity</th>\n",
       "      <th>Fatal</th>\n",
       "      <th>Serious</th>\n",
       "      <th>Slight</th>\n",
       "    </tr>\n",
       "    <tr>\n",
       "      <th>Number_of_Vehicles</th>\n",
       "      <th></th>\n",
       "      <th></th>\n",
       "      <th></th>\n",
       "    </tr>\n",
       "  </thead>\n",
       "  <tbody>\n",
       "    <tr>\n",
       "      <th>1</th>\n",
       "      <td>0.019349</td>\n",
       "      <td>0.193937</td>\n",
       "      <td>0.786714</td>\n",
       "    </tr>\n",
       "    <tr>\n",
       "      <th>2</th>\n",
       "      <td>0.008845</td>\n",
       "      <td>0.106068</td>\n",
       "      <td>0.885088</td>\n",
       "    </tr>\n",
       "    <tr>\n",
       "      <th>3</th>\n",
       "      <td>0.017044</td>\n",
       "      <td>0.109988</td>\n",
       "      <td>0.872969</td>\n",
       "    </tr>\n",
       "    <tr>\n",
       "      <th>4</th>\n",
       "      <td>0.024071</td>\n",
       "      <td>0.118584</td>\n",
       "      <td>0.857345</td>\n",
       "    </tr>\n",
       "    <tr>\n",
       "      <th>5</th>\n",
       "      <td>0.028409</td>\n",
       "      <td>0.132305</td>\n",
       "      <td>0.839286</td>\n",
       "    </tr>\n",
       "    <tr>\n",
       "      <th>6</th>\n",
       "      <td>0.036939</td>\n",
       "      <td>0.159631</td>\n",
       "      <td>0.803430</td>\n",
       "    </tr>\n",
       "    <tr>\n",
       "      <th>7</th>\n",
       "      <td>0.057432</td>\n",
       "      <td>0.212838</td>\n",
       "      <td>0.729730</td>\n",
       "    </tr>\n",
       "    <tr>\n",
       "      <th>8</th>\n",
       "      <td>0.081633</td>\n",
       "      <td>0.170068</td>\n",
       "      <td>0.748299</td>\n",
       "    </tr>\n",
       "    <tr>\n",
       "      <th>9</th>\n",
       "      <td>0.017544</td>\n",
       "      <td>0.087719</td>\n",
       "      <td>0.894737</td>\n",
       "    </tr>\n",
       "    <tr>\n",
       "      <th>10</th>\n",
       "      <td>0.074074</td>\n",
       "      <td>0.185185</td>\n",
       "      <td>0.740741</td>\n",
       "    </tr>\n",
       "    <tr>\n",
       "      <th>11</th>\n",
       "      <td>0.166667</td>\n",
       "      <td>0.000000</td>\n",
       "      <td>0.833333</td>\n",
       "    </tr>\n",
       "    <tr>\n",
       "      <th>12</th>\n",
       "      <td>0.000000</td>\n",
       "      <td>0.285714</td>\n",
       "      <td>0.714286</td>\n",
       "    </tr>\n",
       "    <tr>\n",
       "      <th>13</th>\n",
       "      <td>0.000000</td>\n",
       "      <td>0.333333</td>\n",
       "      <td>0.666667</td>\n",
       "    </tr>\n",
       "    <tr>\n",
       "      <th>14</th>\n",
       "      <td>0.333333</td>\n",
       "      <td>0.000000</td>\n",
       "      <td>0.666667</td>\n",
       "    </tr>\n",
       "    <tr>\n",
       "      <th>15</th>\n",
       "      <td>0.000000</td>\n",
       "      <td>0.000000</td>\n",
       "      <td>1.000000</td>\n",
       "    </tr>\n",
       "    <tr>\n",
       "      <th>16</th>\n",
       "      <td>0.250000</td>\n",
       "      <td>0.250000</td>\n",
       "      <td>0.500000</td>\n",
       "    </tr>\n",
       "    <tr>\n",
       "      <th>19</th>\n",
       "      <td>0.000000</td>\n",
       "      <td>1.000000</td>\n",
       "      <td>0.000000</td>\n",
       "    </tr>\n",
       "    <tr>\n",
       "      <th>28</th>\n",
       "      <td>1.000000</td>\n",
       "      <td>0.000000</td>\n",
       "      <td>0.000000</td>\n",
       "    </tr>\n",
       "    <tr>\n",
       "      <th>32</th>\n",
       "      <td>0.000000</td>\n",
       "      <td>0.000000</td>\n",
       "      <td>1.000000</td>\n",
       "    </tr>\n",
       "  </tbody>\n",
       "</table>\n",
       "</div>"
      ],
      "text/plain": [
       "Accident_Severity      Fatal   Serious    Slight\n",
       "Number_of_Vehicles                              \n",
       "1                   0.019349  0.193937  0.786714\n",
       "2                   0.008845  0.106068  0.885088\n",
       "3                   0.017044  0.109988  0.872969\n",
       "4                   0.024071  0.118584  0.857345\n",
       "5                   0.028409  0.132305  0.839286\n",
       "6                   0.036939  0.159631  0.803430\n",
       "7                   0.057432  0.212838  0.729730\n",
       "8                   0.081633  0.170068  0.748299\n",
       "9                   0.017544  0.087719  0.894737\n",
       "10                  0.074074  0.185185  0.740741\n",
       "11                  0.166667  0.000000  0.833333\n",
       "12                  0.000000  0.285714  0.714286\n",
       "13                  0.000000  0.333333  0.666667\n",
       "14                  0.333333  0.000000  0.666667\n",
       "15                  0.000000  0.000000  1.000000\n",
       "16                  0.250000  0.250000  0.500000\n",
       "19                  0.000000  1.000000  0.000000\n",
       "28                  1.000000  0.000000  0.000000\n",
       "32                  0.000000  0.000000  1.000000"
      ]
     },
     "execution_count": 17,
     "metadata": {},
     "output_type": "execute_result"
    }
   ],
   "source": [
    "vehicles_severity = pd.crosstab(df['Number_of_Vehicles'], df['Accident_Severity'], normalize='index')\n",
    "vehicles_severity\n"
   ]
  },
  {
   "cell_type": "markdown",
   "id": "d2c1134c-83c6-4132-afbf-cd1b8f3366f3",
   "metadata": {},
   "source": [
    "#### Analysis:\n",
    "\n",
    "This analysis shows how the number of vehicles involved in an accident correlates with the severity of the accident. By examining the data, we can determine if accidents involving more vehicles tend to be more severe, which could inform traffic safety policies."
   ]
  },
  {
   "cell_type": "markdown",
   "id": "dc6877db-69f3-4c48-a7e1-e25fb7774335",
   "metadata": {},
   "source": [
    "### 16. How does the type of road (single carriageway, dual carriageway, etc.) influence the severity of accidents?"
   ]
  },
  {
   "cell_type": "code",
   "execution_count": 18,
   "id": "b9ddbd82-80b8-4167-a8b7-2a30b991fa85",
   "metadata": {},
   "outputs": [
    {
     "data": {
      "text/html": [
       "<div>\n",
       "<style scoped>\n",
       "    .dataframe tbody tr th:only-of-type {\n",
       "        vertical-align: middle;\n",
       "    }\n",
       "\n",
       "    .dataframe tbody tr th {\n",
       "        vertical-align: top;\n",
       "    }\n",
       "\n",
       "    .dataframe thead th {\n",
       "        text-align: right;\n",
       "    }\n",
       "</style>\n",
       "<table border=\"1\" class=\"dataframe\">\n",
       "  <thead>\n",
       "    <tr style=\"text-align: right;\">\n",
       "      <th>Accident_Severity</th>\n",
       "      <th>Fatal</th>\n",
       "      <th>Serious</th>\n",
       "      <th>Slight</th>\n",
       "    </tr>\n",
       "    <tr>\n",
       "      <th>Road_Type</th>\n",
       "      <th></th>\n",
       "      <th></th>\n",
       "      <th></th>\n",
       "    </tr>\n",
       "  </thead>\n",
       "  <tbody>\n",
       "    <tr>\n",
       "      <th>Dual carriageway</th>\n",
       "      <td>0.018255</td>\n",
       "      <td>0.118140</td>\n",
       "      <td>0.863604</td>\n",
       "    </tr>\n",
       "    <tr>\n",
       "      <th>One way street</th>\n",
       "      <td>0.007006</td>\n",
       "      <td>0.122059</td>\n",
       "      <td>0.870934</td>\n",
       "    </tr>\n",
       "    <tr>\n",
       "      <th>Roundabout</th>\n",
       "      <td>0.003228</td>\n",
       "      <td>0.083311</td>\n",
       "      <td>0.913462</td>\n",
       "    </tr>\n",
       "    <tr>\n",
       "      <th>Single carriageway</th>\n",
       "      <td>0.013262</td>\n",
       "      <td>0.142355</td>\n",
       "      <td>0.844383</td>\n",
       "    </tr>\n",
       "    <tr>\n",
       "      <th>Slip road</th>\n",
       "      <td>0.006959</td>\n",
       "      <td>0.086777</td>\n",
       "      <td>0.906263</td>\n",
       "    </tr>\n",
       "  </tbody>\n",
       "</table>\n",
       "</div>"
      ],
      "text/plain": [
       "Accident_Severity      Fatal   Serious    Slight\n",
       "Road_Type                                       \n",
       "Dual carriageway    0.018255  0.118140  0.863604\n",
       "One way street      0.007006  0.122059  0.870934\n",
       "Roundabout          0.003228  0.083311  0.913462\n",
       "Single carriageway  0.013262  0.142355  0.844383\n",
       "Slip road           0.006959  0.086777  0.906263"
      ]
     },
     "execution_count": 18,
     "metadata": {},
     "output_type": "execute_result"
    }
   ],
   "source": [
    "road_type_severity = pd.crosstab(df['Road_Type'], df['Accident_Severity'], normalize='index')\n",
    "road_type_severity\n"
   ]
  },
  {
   "cell_type": "markdown",
   "id": "544dd89e-946c-4d58-b067-2bcd120937ee",
   "metadata": {},
   "source": [
    "#### Analysis:\n",
    "\n",
    "This analysis shows how the type of road, such as single carriageway or dual carriageway, influences the severity of accidents. The table will help us understand whether certain road types are more prone to severe accidents, which could inform infrastructure decisions."
   ]
  },
  {
   "cell_type": "markdown",
   "id": "f3e3a4a1-81a2-4469-80b4-d483da576b41",
   "metadata": {},
   "source": [
    "### 17. What are the differences in accident severity between rural and urban areas?"
   ]
  },
  {
   "cell_type": "code",
   "execution_count": 19,
   "id": "fe04bc57-599f-40b4-9146-dc8ac2dae21a",
   "metadata": {},
   "outputs": [
    {
     "data": {
      "text/html": [
       "<div>\n",
       "<style scoped>\n",
       "    .dataframe tbody tr th:only-of-type {\n",
       "        vertical-align: middle;\n",
       "    }\n",
       "\n",
       "    .dataframe tbody tr th {\n",
       "        vertical-align: top;\n",
       "    }\n",
       "\n",
       "    .dataframe thead th {\n",
       "        text-align: right;\n",
       "    }\n",
       "</style>\n",
       "<table border=\"1\" class=\"dataframe\">\n",
       "  <thead>\n",
       "    <tr style=\"text-align: right;\">\n",
       "      <th>Accident_Severity</th>\n",
       "      <th>Fatal</th>\n",
       "      <th>Serious</th>\n",
       "      <th>Slight</th>\n",
       "    </tr>\n",
       "    <tr>\n",
       "      <th>Urban_or_Rural_Area</th>\n",
       "      <th></th>\n",
       "      <th></th>\n",
       "      <th></th>\n",
       "    </tr>\n",
       "  </thead>\n",
       "  <tbody>\n",
       "    <tr>\n",
       "      <th>Rural</th>\n",
       "      <td>0.023436</td>\n",
       "      <td>0.156124</td>\n",
       "      <td>0.820440</td>\n",
       "    </tr>\n",
       "    <tr>\n",
       "      <th>Unallocated</th>\n",
       "      <td>0.000000</td>\n",
       "      <td>0.090909</td>\n",
       "      <td>0.909091</td>\n",
       "    </tr>\n",
       "    <tr>\n",
       "      <th>Urban</th>\n",
       "      <td>0.007257</td>\n",
       "      <td>0.120717</td>\n",
       "      <td>0.872026</td>\n",
       "    </tr>\n",
       "  </tbody>\n",
       "</table>\n",
       "</div>"
      ],
      "text/plain": [
       "Accident_Severity       Fatal   Serious    Slight\n",
       "Urban_or_Rural_Area                              \n",
       "Rural                0.023436  0.156124  0.820440\n",
       "Unallocated          0.000000  0.090909  0.909091\n",
       "Urban                0.007257  0.120717  0.872026"
      ]
     },
     "execution_count": 19,
     "metadata": {},
     "output_type": "execute_result"
    }
   ],
   "source": [
    "urban_rural_severity = pd.crosstab(df['Urban_or_Rural_Area'], df['Accident_Severity'], normalize='index')\n",
    "urban_rural_severity\n"
   ]
  },
  {
   "cell_type": "markdown",
   "id": "b920c61c-1075-4128-85ff-b792ab563a8f",
   "metadata": {},
   "source": [
    "#### Analysis:\n",
    "\n",
    "This analysis shows the differences in accident severity between urban and rural areas. By comparing the proportions of fatal, serious, and slight accidents in both areas, we can understand whether urban areas experience more severe accidents compared to rural areas, or vice versa."
   ]
  },
  {
   "cell_type": "markdown",
   "id": "6a192469-c1bb-43fb-b7fc-ec9e47a66011",
   "metadata": {},
   "source": [
    "### 18. How do light conditions impact the frequency of serious accidents at night versus during the day?"
   ]
  },
  {
   "cell_type": "code",
   "execution_count": 20,
   "id": "90e1f50b-c9c7-4270-966a-d4892c3f4de8",
   "metadata": {},
   "outputs": [
    {
     "data": {
      "text/plain": [
       "Light_Conditions\n",
       "Darkness - lighting unknown    0.122455\n",
       "Darkness - lights lit          0.147910\n",
       "Darkness - lights unlit        0.141565\n",
       "Darkness - no lighting         0.191629\n",
       "Daylight                       0.125307\n",
       "Name: Serious, dtype: float64"
      ]
     },
     "execution_count": 20,
     "metadata": {},
     "output_type": "execute_result"
    }
   ],
   "source": [
    "light_conditions_severity = pd.crosstab(df['Light_Conditions'], df['Accident_Severity'], normalize='index')\n",
    "serious_light_conditions = light_conditions_severity['Serious']\n",
    "serious_light_conditions\n"
   ]
  },
  {
   "cell_type": "markdown",
   "id": "6e2e09bb-5385-4fc8-b90e-d9e7eead9ebe",
   "metadata": {},
   "source": [
    "#### Analysis:\n",
    "\n",
    "This analysis shows how light conditions, such as daylight or darkness, affect the frequency of serious accidents. By examining the proportions of serious accidents during different light conditions, we can identify whether accidents are more likely to be severe during the night or in low-visibility conditions."
   ]
  },
  {
   "cell_type": "markdown",
   "id": "16d19c2d-52f4-4c0d-8218-6f742d9fbf1c",
   "metadata": {},
   "source": [
    "### 19. What are the casualty rates in districts with the highest accident severity, and how can this information inform public safety measures?"
   ]
  },
  {
   "cell_type": "code",
   "execution_count": 21,
   "id": "878fa56f-f36c-4e30-8a6a-107a60fd6ea4",
   "metadata": {},
   "outputs": [
    {
     "data": {
      "text/html": [
       "<div>\n",
       "<style scoped>\n",
       "    .dataframe tbody tr th:only-of-type {\n",
       "        vertical-align: middle;\n",
       "    }\n",
       "\n",
       "    .dataframe tbody tr th {\n",
       "        vertical-align: top;\n",
       "    }\n",
       "\n",
       "    .dataframe thead th {\n",
       "        text-align: right;\n",
       "    }\n",
       "</style>\n",
       "<table border=\"1\" class=\"dataframe\">\n",
       "  <thead>\n",
       "    <tr style=\"text-align: right;\">\n",
       "      <th></th>\n",
       "      <th>Number_of_Casualties</th>\n",
       "    </tr>\n",
       "    <tr>\n",
       "      <th>District Area</th>\n",
       "      <th></th>\n",
       "    </tr>\n",
       "  </thead>\n",
       "  <tbody>\n",
       "    <tr>\n",
       "      <th>Birmingham</th>\n",
       "      <td>18674</td>\n",
       "    </tr>\n",
       "    <tr>\n",
       "      <th>Leeds</th>\n",
       "      <td>12438</td>\n",
       "    </tr>\n",
       "    <tr>\n",
       "      <th>Manchester</th>\n",
       "      <td>9437</td>\n",
       "    </tr>\n",
       "    <tr>\n",
       "      <th>Bradford</th>\n",
       "      <td>9268</td>\n",
       "    </tr>\n",
       "    <tr>\n",
       "      <th>Liverpool</th>\n",
       "      <td>8669</td>\n",
       "    </tr>\n",
       "  </tbody>\n",
       "</table>\n",
       "</div>"
      ],
      "text/plain": [
       "               Number_of_Casualties\n",
       "District Area                      \n",
       "Birmingham                    18674\n",
       "Leeds                         12438\n",
       "Manchester                     9437\n",
       "Bradford                       9268\n",
       "Liverpool                      8669"
      ]
     },
     "execution_count": 21,
     "metadata": {},
     "output_type": "execute_result"
    }
   ],
   "source": [
    "district_casualty_rate = df.groupby('District Area').agg({'Number_of_Casualties': 'sum'})\n",
    "district_casualty_rate_sorted = district_casualty_rate.sort_values(by='Number_of_Casualties', ascending=False)\n",
    "district_casualty_rate_sorted.head()\n"
   ]
  },
  {
   "cell_type": "markdown",
   "id": "60692965-1554-48be-b3e7-64143795d148",
   "metadata": {},
   "source": [
    "#### Analysis:\n",
    "\n",
    "This analysis shows the districts with the highest total number of casualties. By focusing on these districts, we can identify areas that may benefit from public safety interventions, such as increased road safety measures or more robust emergency response protocols."
   ]
  },
  {
   "cell_type": "markdown",
   "id": "c4da188b-a468-4c84-8c1f-86d694cfd571",
   "metadata": {},
   "source": [
    "### 20. What patterns can be observed in accidents involving multiple vehicles versus single-vehicle incidents in terms of accident severity?"
   ]
  },
  {
   "cell_type": "code",
   "execution_count": 22,
   "id": "9ad41a7e-80ed-4f66-bdde-3c2566839428",
   "metadata": {},
   "outputs": [
    {
     "data": {
      "text/html": [
       "<div>\n",
       "<style scoped>\n",
       "    .dataframe tbody tr th:only-of-type {\n",
       "        vertical-align: middle;\n",
       "    }\n",
       "\n",
       "    .dataframe tbody tr th {\n",
       "        vertical-align: top;\n",
       "    }\n",
       "\n",
       "    .dataframe thead th {\n",
       "        text-align: right;\n",
       "    }\n",
       "</style>\n",
       "<table border=\"1\" class=\"dataframe\">\n",
       "  <thead>\n",
       "    <tr style=\"text-align: right;\">\n",
       "      <th>Accident_Severity</th>\n",
       "      <th>Fatal</th>\n",
       "      <th>Serious</th>\n",
       "      <th>Slight</th>\n",
       "    </tr>\n",
       "    <tr>\n",
       "      <th>Number_of_Vehicles</th>\n",
       "      <th></th>\n",
       "      <th></th>\n",
       "      <th></th>\n",
       "    </tr>\n",
       "  </thead>\n",
       "  <tbody>\n",
       "    <tr>\n",
       "      <th>1</th>\n",
       "      <td>0.019349</td>\n",
       "      <td>0.193937</td>\n",
       "      <td>0.786714</td>\n",
       "    </tr>\n",
       "    <tr>\n",
       "      <th>2</th>\n",
       "      <td>0.008845</td>\n",
       "      <td>0.106068</td>\n",
       "      <td>0.885088</td>\n",
       "    </tr>\n",
       "    <tr>\n",
       "      <th>3</th>\n",
       "      <td>0.017044</td>\n",
       "      <td>0.109988</td>\n",
       "      <td>0.872969</td>\n",
       "    </tr>\n",
       "    <tr>\n",
       "      <th>4</th>\n",
       "      <td>0.024071</td>\n",
       "      <td>0.118584</td>\n",
       "      <td>0.857345</td>\n",
       "    </tr>\n",
       "    <tr>\n",
       "      <th>5</th>\n",
       "      <td>0.028409</td>\n",
       "      <td>0.132305</td>\n",
       "      <td>0.839286</td>\n",
       "    </tr>\n",
       "    <tr>\n",
       "      <th>6</th>\n",
       "      <td>0.036939</td>\n",
       "      <td>0.159631</td>\n",
       "      <td>0.803430</td>\n",
       "    </tr>\n",
       "    <tr>\n",
       "      <th>7</th>\n",
       "      <td>0.057432</td>\n",
       "      <td>0.212838</td>\n",
       "      <td>0.729730</td>\n",
       "    </tr>\n",
       "    <tr>\n",
       "      <th>8</th>\n",
       "      <td>0.081633</td>\n",
       "      <td>0.170068</td>\n",
       "      <td>0.748299</td>\n",
       "    </tr>\n",
       "    <tr>\n",
       "      <th>9</th>\n",
       "      <td>0.017544</td>\n",
       "      <td>0.087719</td>\n",
       "      <td>0.894737</td>\n",
       "    </tr>\n",
       "    <tr>\n",
       "      <th>10</th>\n",
       "      <td>0.074074</td>\n",
       "      <td>0.185185</td>\n",
       "      <td>0.740741</td>\n",
       "    </tr>\n",
       "    <tr>\n",
       "      <th>11</th>\n",
       "      <td>0.166667</td>\n",
       "      <td>0.000000</td>\n",
       "      <td>0.833333</td>\n",
       "    </tr>\n",
       "    <tr>\n",
       "      <th>12</th>\n",
       "      <td>0.000000</td>\n",
       "      <td>0.285714</td>\n",
       "      <td>0.714286</td>\n",
       "    </tr>\n",
       "    <tr>\n",
       "      <th>13</th>\n",
       "      <td>0.000000</td>\n",
       "      <td>0.333333</td>\n",
       "      <td>0.666667</td>\n",
       "    </tr>\n",
       "    <tr>\n",
       "      <th>14</th>\n",
       "      <td>0.333333</td>\n",
       "      <td>0.000000</td>\n",
       "      <td>0.666667</td>\n",
       "    </tr>\n",
       "    <tr>\n",
       "      <th>15</th>\n",
       "      <td>0.000000</td>\n",
       "      <td>0.000000</td>\n",
       "      <td>1.000000</td>\n",
       "    </tr>\n",
       "    <tr>\n",
       "      <th>16</th>\n",
       "      <td>0.250000</td>\n",
       "      <td>0.250000</td>\n",
       "      <td>0.500000</td>\n",
       "    </tr>\n",
       "    <tr>\n",
       "      <th>19</th>\n",
       "      <td>0.000000</td>\n",
       "      <td>1.000000</td>\n",
       "      <td>0.000000</td>\n",
       "    </tr>\n",
       "    <tr>\n",
       "      <th>28</th>\n",
       "      <td>1.000000</td>\n",
       "      <td>0.000000</td>\n",
       "      <td>0.000000</td>\n",
       "    </tr>\n",
       "    <tr>\n",
       "      <th>32</th>\n",
       "      <td>0.000000</td>\n",
       "      <td>0.000000</td>\n",
       "      <td>1.000000</td>\n",
       "    </tr>\n",
       "  </tbody>\n",
       "</table>\n",
       "</div>"
      ],
      "text/plain": [
       "Accident_Severity      Fatal   Serious    Slight\n",
       "Number_of_Vehicles                              \n",
       "1                   0.019349  0.193937  0.786714\n",
       "2                   0.008845  0.106068  0.885088\n",
       "3                   0.017044  0.109988  0.872969\n",
       "4                   0.024071  0.118584  0.857345\n",
       "5                   0.028409  0.132305  0.839286\n",
       "6                   0.036939  0.159631  0.803430\n",
       "7                   0.057432  0.212838  0.729730\n",
       "8                   0.081633  0.170068  0.748299\n",
       "9                   0.017544  0.087719  0.894737\n",
       "10                  0.074074  0.185185  0.740741\n",
       "11                  0.166667  0.000000  0.833333\n",
       "12                  0.000000  0.285714  0.714286\n",
       "13                  0.000000  0.333333  0.666667\n",
       "14                  0.333333  0.000000  0.666667\n",
       "15                  0.000000  0.000000  1.000000\n",
       "16                  0.250000  0.250000  0.500000\n",
       "19                  0.000000  1.000000  0.000000\n",
       "28                  1.000000  0.000000  0.000000\n",
       "32                  0.000000  0.000000  1.000000"
      ]
     },
     "execution_count": 22,
     "metadata": {},
     "output_type": "execute_result"
    }
   ],
   "source": [
    "single_multiple_vehicle_severity = pd.crosstab(df['Number_of_Vehicles'], df['Accident_Severity'], normalize='index')\n",
    "single_multiple_vehicle_severity\n"
   ]
  },
  {
   "cell_type": "markdown",
   "id": "471b1895-9bf9-4748-b6c4-ec18c1b2f4c2",
   "metadata": {},
   "source": [
    "#### Analysis:\n",
    "\n",
    "This analysis shows the patterns in accident severity between single-vehicle and multiple-vehicle incidents. By examining the severity for both types of accidents, we can observe whether multiple-vehicle accidents tend to be more severe than single-vehicle accidents, which could help inform traffic safety campaigns."
   ]
  },
  {
   "cell_type": "code",
   "execution_count": null,
   "id": "1477884e-56e6-425e-9178-cfb76105de08",
   "metadata": {},
   "outputs": [],
   "source": []
  },
  {
   "cell_type": "code",
   "execution_count": null,
   "id": "495450ae-f80d-49c3-99ee-2b1b8bed5199",
   "metadata": {},
   "outputs": [],
   "source": []
  }
 ],
 "metadata": {
  "kernelspec": {
   "display_name": "Python [conda env:base] *",
   "language": "python",
   "name": "conda-base-py"
  },
  "language_info": {
   "codemirror_mode": {
    "name": "ipython",
    "version": 3
   },
   "file_extension": ".py",
   "mimetype": "text/x-python",
   "name": "python",
   "nbconvert_exporter": "python",
   "pygments_lexer": "ipython3",
   "version": "3.13.5"
  }
 },
 "nbformat": 4,
 "nbformat_minor": 5
}
