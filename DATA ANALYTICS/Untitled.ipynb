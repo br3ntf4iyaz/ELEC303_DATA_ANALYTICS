{
 "cells": [
  {
   "cell_type": "code",
   "execution_count": 1,
   "id": "034d6db1-d1ac-48e1-a2b3-2243723e3345",
   "metadata": {},
   "outputs": [],
   "source": [
    "import pandas as pd\n"
   ]
  },
  {
   "cell_type": "code",
   "execution_count": 2,
   "id": "2fe23f8e-d4cb-47b8-ae97-75a31eb9a2a7",
   "metadata": {},
   "outputs": [],
   "source": [
    "file_path = r\"C:\\Users\\Matthew\\penguins.csv\"\n",
    "penguins_df = pd.read_csv(file_path)"
   ]
  },
  {
   "cell_type": "code",
   "execution_count": 3,
   "id": "e673978c-0d5b-44d2-b5ee-bc4a5f32a68a",
   "metadata": {},
   "outputs": [
    {
     "data": {
      "text/html": [
       "<div>\n",
       "<style scoped>\n",
       "    .dataframe tbody tr th:only-of-type {\n",
       "        vertical-align: middle;\n",
       "    }\n",
       "\n",
       "    .dataframe tbody tr th {\n",
       "        vertical-align: top;\n",
       "    }\n",
       "\n",
       "    .dataframe thead th {\n",
       "        text-align: right;\n",
       "    }\n",
       "</style>\n",
       "<table border=\"1\" class=\"dataframe\">\n",
       "  <thead>\n",
       "    <tr style=\"text-align: right;\">\n",
       "      <th></th>\n",
       "      <th>species</th>\n",
       "      <th>island</th>\n",
       "      <th>bill_length_mm</th>\n",
       "      <th>bill_depth_mm</th>\n",
       "      <th>flipper_length_mm</th>\n",
       "      <th>body_mass_g</th>\n",
       "      <th>sex</th>\n",
       "      <th>year</th>\n",
       "    </tr>\n",
       "  </thead>\n",
       "  <tbody>\n",
       "    <tr>\n",
       "      <th>0</th>\n",
       "      <td>Adelie</td>\n",
       "      <td>Torgersen</td>\n",
       "      <td>39.1</td>\n",
       "      <td>18.7</td>\n",
       "      <td>181.0</td>\n",
       "      <td>3750.0</td>\n",
       "      <td>male</td>\n",
       "      <td>2007</td>\n",
       "    </tr>\n",
       "    <tr>\n",
       "      <th>1</th>\n",
       "      <td>Adelie</td>\n",
       "      <td>Torgersen</td>\n",
       "      <td>39.5</td>\n",
       "      <td>17.4</td>\n",
       "      <td>186.0</td>\n",
       "      <td>3800.0</td>\n",
       "      <td>female</td>\n",
       "      <td>2007</td>\n",
       "    </tr>\n",
       "    <tr>\n",
       "      <th>2</th>\n",
       "      <td>Adelie</td>\n",
       "      <td>Torgersen</td>\n",
       "      <td>40.3</td>\n",
       "      <td>18.0</td>\n",
       "      <td>195.0</td>\n",
       "      <td>3250.0</td>\n",
       "      <td>female</td>\n",
       "      <td>2007</td>\n",
       "    </tr>\n",
       "    <tr>\n",
       "      <th>3</th>\n",
       "      <td>Adelie</td>\n",
       "      <td>Torgersen</td>\n",
       "      <td>NaN</td>\n",
       "      <td>NaN</td>\n",
       "      <td>NaN</td>\n",
       "      <td>NaN</td>\n",
       "      <td>NaN</td>\n",
       "      <td>2007</td>\n",
       "    </tr>\n",
       "    <tr>\n",
       "      <th>4</th>\n",
       "      <td>Adelie</td>\n",
       "      <td>Torgersen</td>\n",
       "      <td>36.7</td>\n",
       "      <td>19.3</td>\n",
       "      <td>193.0</td>\n",
       "      <td>3450.0</td>\n",
       "      <td>female</td>\n",
       "      <td>2007</td>\n",
       "    </tr>\n",
       "  </tbody>\n",
       "</table>\n",
       "</div>"
      ],
      "text/plain": [
       "  species     island  bill_length_mm  bill_depth_mm  flipper_length_mm  \\\n",
       "0  Adelie  Torgersen            39.1           18.7              181.0   \n",
       "1  Adelie  Torgersen            39.5           17.4              186.0   \n",
       "2  Adelie  Torgersen            40.3           18.0              195.0   \n",
       "3  Adelie  Torgersen             NaN            NaN                NaN   \n",
       "4  Adelie  Torgersen            36.7           19.3              193.0   \n",
       "\n",
       "   body_mass_g     sex  year  \n",
       "0       3750.0    male  2007  \n",
       "1       3800.0  female  2007  \n",
       "2       3250.0  female  2007  \n",
       "3          NaN     NaN  2007  \n",
       "4       3450.0  female  2007  "
      ]
     },
     "execution_count": 3,
     "metadata": {},
     "output_type": "execute_result"
    }
   ],
   "source": [
    "penguins_df.head()\n"
   ]
  },
  {
   "cell_type": "code",
   "execution_count": 4,
   "id": "df15b115-47ea-446d-a89e-1a3dbbf6a221",
   "metadata": {},
   "outputs": [
    {
     "data": {
      "text/plain": [
       "(344, 8)"
      ]
     },
     "execution_count": 4,
     "metadata": {},
     "output_type": "execute_result"
    }
   ],
   "source": [
    "penguins_df.shape\n"
   ]
  },
  {
   "cell_type": "code",
   "execution_count": 5,
   "id": "33f7defd-d544-4e29-b780-36e79b1483e4",
   "metadata": {},
   "outputs": [
    {
     "data": {
      "text/plain": [
       "Index(['species', 'island', 'bill_length_mm', 'bill_depth_mm',\n",
       "       'flipper_length_mm', 'body_mass_g', 'sex', 'year'],\n",
       "      dtype='object')"
      ]
     },
     "execution_count": 5,
     "metadata": {},
     "output_type": "execute_result"
    }
   ],
   "source": [
    "penguins_df.columns\n"
   ]
  },
  {
   "cell_type": "code",
   "execution_count": 6,
   "id": "8c890a54-9f1e-4937-a7e0-cdb378f1c02c",
   "metadata": {},
   "outputs": [
    {
     "data": {
      "text/plain": [
       "species               0\n",
       "island                0\n",
       "bill_length_mm        2\n",
       "bill_depth_mm         2\n",
       "flipper_length_mm     2\n",
       "body_mass_g           2\n",
       "sex                  11\n",
       "year                  0\n",
       "dtype: int64"
      ]
     },
     "execution_count": 6,
     "metadata": {},
     "output_type": "execute_result"
    }
   ],
   "source": [
    "penguins_df.isnull().sum()\n"
   ]
  },
  {
   "cell_type": "code",
   "execution_count": 7,
   "id": "06fa0488-dc44-4d02-87b2-a1b4debd99d6",
   "metadata": {},
   "outputs": [
    {
     "data": {
      "text/plain": [
       "species              0\n",
       "island               0\n",
       "bill_length_mm       0\n",
       "bill_depth_mm        0\n",
       "flipper_length_mm    0\n",
       "body_mass_g          0\n",
       "sex                  0\n",
       "year                 0\n",
       "dtype: int64"
      ]
     },
     "execution_count": 7,
     "metadata": {},
     "output_type": "execute_result"
    }
   ],
   "source": [
    "null_counts = penguins_df.isnull().sum()\n",
    "penguins_df['bill_length_mm'] = penguins_df['bill_length_mm'].fillna(penguins_df['bill_length_mm'].mean())\n",
    "penguins_df['bill_depth_mm'] = penguins_df['bill_depth_mm'].fillna(penguins_df['bill_depth_mm'].median())\n",
    "penguins_df['flipper_length_mm'] = penguins_df['flipper_length_mm'].fillna(penguins_df['flipper_length_mm'].mean())\n",
    "penguins_df['body_mass_g'] = penguins_df['body_mass_g'].fillna(penguins_df['body_mass_g'].mean())\n",
    "\n",
    "penguins_df['sex'] = penguins_df['sex'].fillna(penguins_df['sex'].mode()[0])\n",
    "penguins_df['species'] = penguins_df['species'].fillna(penguins_df['species'].mode()[0])\n",
    "penguins_df['island'] = penguins_df['island'].fillna(penguins_df['island'].mode()[0])\n",
    "\n",
    "penguins_df.isnull().sum()"
   ]
  },
  {
   "cell_type": "code",
   "execution_count": 8,
   "id": "7d71ec72-e976-40f1-86ac-f10c573597f2",
   "metadata": {},
   "outputs": [
    {
     "data": {
      "text/plain": [
       "species              category\n",
       "island               category\n",
       "bill_length_mm        float64\n",
       "bill_depth_mm         float64\n",
       "flipper_length_mm     float64\n",
       "body_mass_g           float64\n",
       "sex                  category\n",
       "year                    int64\n",
       "dtype: object"
      ]
     },
     "execution_count": 8,
     "metadata": {},
     "output_type": "execute_result"
    }
   ],
   "source": [
    "penguins_df['species'] = penguins_df['species'].astype('category')\n",
    "penguins_df['island'] = penguins_df['island'].astype('category')\n",
    "penguins_df['sex'] = penguins_df['sex'].astype('category')\n",
    "\n",
    "penguins_df.dtypes"
   ]
  },
  {
   "cell_type": "markdown",
   "id": "534e0edb-efbf-451a-b037-fee627a7ee6a",
   "metadata": {},
   "source": [
    "### Question 1\n",
    "#### Which penguin species has the heaviest average body mass?"
   ]
  },
  {
   "cell_type": "code",
   "execution_count": 15,
   "id": "4daa8c22-48e2-4593-bc50-80dcad52e009",
   "metadata": {},
   "outputs": [
    {
     "data": {
      "text/plain": [
       "species\n",
       "Gentoo       5068.965761\n",
       "Chinstrap    3733.088235\n",
       "Adelie       3703.958910\n",
       "Name: body_mass_g, dtype: float64"
      ]
     },
     "execution_count": 15,
     "metadata": {},
     "output_type": "execute_result"
    }
   ],
   "source": [
    "species_mass = penguins_df.groupby('species', observed=True)['body_mass_g'].mean().sort_values(ascending=False)\n",
    "species_mass"
   ]
  },
  {
   "cell_type": "markdown",
   "id": "8351c397-3cb8-4c64-aba4-2103070fb7ab",
   "metadata": {},
   "source": [
    "### Insight 1\n",
    "#### The results show that Gentoo species has the highest average body mass. The heaviest species likely has evolutionary adaptations for colder environments, as larger body size helps with heat retention in Antarctic conditions."
   ]
  },
  {
   "cell_type": "markdown",
   "id": "80a9a11d-1955-4557-8068-dc2e032da479",
   "metadata": {},
   "source": [
    "### Question 2\n",
    "#### Which island has the penguins with the highest average body mass?"
   ]
  },
  {
   "cell_type": "code",
   "execution_count": 17,
   "id": "879e636c-937f-49b0-8b4f-bbff9accbd40",
   "metadata": {},
   "outputs": [
    {
     "data": {
      "text/plain": [
       "island\n",
       "Biscoe       4712.956871\n",
       "Torgersen    3715.899123\n",
       "Dream        3712.903226\n",
       "Name: body_mass_g, dtype: float64"
      ]
     },
     "execution_count": 17,
     "metadata": {},
     "output_type": "execute_result"
    }
   ],
   "source": [
    "island_mass = penguins_df.groupby('island', observed=True)['body_mass_g'].mean().sort_values(ascending=False)\n",
    "island_mass"
   ]
  },
  {
   "cell_type": "markdown",
   "id": "4d00e4fe-8f65-461c-a076-c623d13abedb",
   "metadata": {},
   "source": [
    "### Insight 2\n",
    "#### The island with the heaviest penguins might have better food resources or different environmental conditions that support larger body sizes. This could indicate habitat quality differences between the islands in the study.\n"
   ]
  },
  {
   "cell_type": "markdown",
   "id": "7e655eff-8a44-4666-b769-6527d1329c7c",
   "metadata": {},
   "source": [
    "### Question 3\n",
    "#### Which penguin species has the longest average bill length?"
   ]
  },
  {
   "cell_type": "code",
   "execution_count": 18,
   "id": "60fb1194-d1d2-4881-b10b-2c385493a1d3",
   "metadata": {},
   "outputs": [
    {
     "data": {
      "text/plain": [
       "species\n",
       "Chinstrap    48.833824\n",
       "Gentoo       47.475983\n",
       "Adelie       38.825144\n",
       "Name: bill_length_mm, dtype: float64"
      ]
     },
     "execution_count": 18,
     "metadata": {},
     "output_type": "execute_result"
    }
   ],
   "source": [
    "species_bill_length = penguins_df.groupby('species', observed=True)['bill_length_mm'].mean().sort_values(ascending=False)\n",
    "species_bill_length"
   ]
  },
  {
   "cell_type": "markdown",
   "id": "caa3a2b0-fb0b-44ae-acc2-627c350e5a64",
   "metadata": {},
   "source": [
    "### Answer 3\n",
    "#### The Chinstrap that has the longest bills has likely evolved this trait to specialize in catching specific types of prey. Bill length is directly related to feeding strategies and the ecological niche each species occupies."
   ]
  },
  {
   "cell_type": "markdown",
   "id": "2ed0b594-06bb-48bd-acaa-47877f7b5cd1",
   "metadata": {},
   "source": [
    "### Question 4\n",
    "#### What year had the highest average flipper length among all penguins?"
   ]
  },
  {
   "cell_type": "code",
   "execution_count": 19,
   "id": "43602cc8-a9bd-4b28-9416-98df2128a84d",
   "metadata": {},
   "outputs": [
    {
     "data": {
      "text/plain": [
       "year\n",
       "2008    202.798246\n",
       "2009    202.790960\n",
       "2007    196.917411\n",
       "Name: flipper_length_mm, dtype: float64"
      ]
     },
     "execution_count": 19,
     "metadata": {},
     "output_type": "execute_result"
    }
   ],
   "source": [
    "yearly_flipper = penguins_df.groupby('year')['flipper_length_mm'].mean().sort_values(ascending=False)\n",
    "yearly_flipper"
   ]
  },
  {
   "cell_type": "markdown",
   "id": "c28927e7-da5d-48a5-aa1a-d57f95f74215",
   "metadata": {},
   "source": [
    "### Conclusion 4\n",
    "#### The year 2009 with the highest average flipper length might indicate better growth conditions for penguins during that period. Flipper size can be influenced by nutrition during development, so this could reflect food availability or environmental conditions in different years."
   ]
  },
  {
   "cell_type": "markdown",
   "id": "f5f34ee5-100b-420d-970c-6cf218f3afbd",
   "metadata": {},
   "source": [
    "### Question 5\n",
    "#### Which sex has the greater average body mass?"
   ]
  },
  {
   "cell_type": "code",
   "execution_count": 20,
   "id": "ed67eacc-37f7-4c56-a7af-3e9d04725af8",
   "metadata": {},
   "outputs": [
    {
     "data": {
      "text/plain": [
       "sex\n",
       "male      4514.684407\n",
       "female    3862.272727\n",
       "Name: body_mass_g, dtype: float64"
      ]
     },
     "execution_count": 20,
     "metadata": {},
     "output_type": "execute_result"
    }
   ],
   "source": [
    "sex_mass = penguins_df.groupby('sex', observed=True)['body_mass_g'].mean().sort_values(ascending=False)\n",
    "sex_mass"
   ]
  },
  {
   "cell_type": "markdown",
   "id": "af0aeeb3-5e34-4178-9ce6-593900955fbc",
   "metadata": {},
   "source": [
    "### Insight 5\n",
    "#### The comparison reveals male penguins are heavier on average. This sexual dimorphism in body mass is common in many bird species and often relates to mating strategies and parental roles."
   ]
  },
  {
   "cell_type": "markdown",
   "id": "56a4ec30-7d34-4882-91af-42a21d0f090b",
   "metadata": {},
   "source": [
    "### Question 6\n",
    "#### What is the average bill depth for each species?"
   ]
  },
  {
   "cell_type": "code",
   "execution_count": 21,
   "id": "90871748-fe2c-42ee-a436-8c473d0948bb",
   "metadata": {},
   "outputs": [
    {
     "data": {
      "text/plain": [
       "species\n",
       "Chinstrap    18.420588\n",
       "Adelie       18.339474\n",
       "Gentoo       15.000806\n",
       "Name: bill_depth_mm, dtype: float64"
      ]
     },
     "execution_count": 21,
     "metadata": {},
     "output_type": "execute_result"
    }
   ],
   "source": [
    "species_bill_depth = penguins_df.groupby('species', observed=True)['bill_depth_mm'].mean().sort_values(ascending=False)\n",
    "species_bill_depth"
   ]
  },
  {
   "cell_type": "markdown",
   "id": "1b605fb8-403e-42e6-8216-eb56039a2315",
   "metadata": {},
   "source": [
    "### Insight 6\n",
    "#### The differences in bill depth between species reflect their different feeding adaptations. Species with deeper bills may be adapted to different prey types or feeding techniques compared to those with shallower bills.\n"
   ]
  },
  {
   "cell_type": "markdown",
   "id": "9b5f4f3a-00b4-47f7-8896-b23ae1ea1da5",
   "metadata": {},
   "source": [
    "### Question 7\n",
    "#### Which island has the most penguin observations in the dataset?"
   ]
  },
  {
   "cell_type": "code",
   "execution_count": 22,
   "id": "c446fa41-389d-4d74-a1e8-7967af4f7a67",
   "metadata": {},
   "outputs": [
    {
     "data": {
      "text/plain": [
       "island\n",
       "Biscoe       168\n",
       "Dream        124\n",
       "Torgersen     52\n",
       "Name: count, dtype: int64"
      ]
     },
     "execution_count": 22,
     "metadata": {},
     "output_type": "execute_result"
    }
   ],
   "source": [
    "island_counts = penguins_df['island'].value_counts()\n",
    "island_counts"
   ]
  },
  {
   "cell_type": "markdown",
   "id": "84ef3d50-7253-4f69-9b27-7595f194bbe7",
   "metadata": {},
   "source": [
    "### Answer 7\n",
    "#### The island Biscoe with the most observations may be more accessible to researchers or have larger penguin colonies. This information helps us understand the distribution of our data and any potential sampling biases across different locations."
   ]
  },
  {
   "cell_type": "code",
   "execution_count": null,
   "id": "ca12e142-dc35-4938-a885-c2c222ae0cf8",
   "metadata": {},
   "outputs": [],
   "source": []
  }
 ],
 "metadata": {
  "kernelspec": {
   "display_name": "Python [conda env:base] *",
   "language": "python",
   "name": "conda-base-py"
  },
  "language_info": {
   "codemirror_mode": {
    "name": "ipython",
    "version": 3
   },
   "file_extension": ".py",
   "mimetype": "text/x-python",
   "name": "python",
   "nbconvert_exporter": "python",
   "pygments_lexer": "ipython3",
   "version": "3.13.5"
  }
 },
 "nbformat": 4,
 "nbformat_minor": 5
}
